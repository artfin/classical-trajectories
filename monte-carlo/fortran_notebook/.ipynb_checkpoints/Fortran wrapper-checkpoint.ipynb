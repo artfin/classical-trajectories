{
 "cells": [
  {
   "cell_type": "code",
   "execution_count": 1,
   "metadata": {
    "collapsed": false,
    "deletable": true,
    "editable": true
   },
   "outputs": [
    {
     "name": "stderr",
     "output_type": "stream",
     "text": [
      "/usr/local/lib/python3.5/site-packages/fortranmagic.py:147: UserWarning: get_ipython_cache_dir has moved to the IPython.paths module since IPython 4.0.\n",
      "  self._lib_dir = os.path.join(get_ipython_cache_dir(), 'fortran')\n"
     ]
    },
    {
     "data": {
      "application/javascript": [
       "$.getScript(\"https://raw.github.com/marijnh/CodeMirror/master/mode/fortran/fortran.js\", function () {\n",
       "IPython.config.cell_magic_highlight['magic_fortran'] = {'reg':[/^%%fortran/]};});\n"
      ]
     },
     "metadata": {},
     "output_type": "display_data"
    }
   ],
   "source": [
    "%load_ext fortranmagic"
   ]
  },
  {
   "cell_type": "code",
   "execution_count": 2,
   "metadata": {
    "collapsed": true,
    "deletable": true,
    "editable": true
   },
   "outputs": [],
   "source": [
    "%%fortran\n",
    "subroutine my_function(x,y,z)\n",
    "    real, intent(in) :: x(:), y(:)\n",
    "    real, intent(out) :: z(size(x))\n",
    "    z(:) = sin(x(:) + y(:))\n",
    "end subroutine"
   ]
  },
  {
   "cell_type": "code",
   "execution_count": 7,
   "metadata": {
    "collapsed": false,
    "deletable": true,
    "editable": true
   },
   "outputs": [],
   "source": [
    "import numpy\n",
    "x = numpy.random.normal(size = 100)\n",
    "y = numpy.random.normal(size = 100)\n",
    "z = my_function(x, y)"
   ]
  },
  {
   "cell_type": "code",
   "execution_count": null,
   "metadata": {
    "collapsed": false,
    "deletable": true,
    "editable": true
   },
   "outputs": [],
   "source": []
  },
  {
   "cell_type": "code",
   "execution_count": 20,
   "metadata": {
    "collapsed": true,
    "deletable": true,
    "editable": true
   },
   "outputs": [],
   "source": [
    "%%fortran\n",
    "\n",
    "subroutine f1(x, y, z)\n",
    "    real, intent(in) :: x, y\n",
    "    real, intent(out) :: z\n",
    "            \n",
    "    z = sin(x + y)\n",
    "end subroutine f1"
   ]
  },
  {
   "cell_type": "code",
   "execution_count": 22,
   "metadata": {
    "collapsed": false,
    "deletable": true,
    "editable": true
   },
   "outputs": [
    {
     "data": {
      "text/plain": [
       "9.26574066397734e-05"
      ]
     },
     "execution_count": 22,
     "metadata": {},
     "output_type": "execute_result"
    }
   ],
   "source": [
    "f1(1.0, 2.1415)"
   ]
  },
  {
   "cell_type": "code",
   "execution_count": 25,
   "metadata": {
    "collapsed": false,
    "deletable": true,
    "editable": true
   },
   "outputs": [
    {
     "name": "stdout",
     "output_type": "stream",
     "text": [
      "z = f1(x,y)\n",
      "\n",
      "Wrapper for ``f1``.\n",
      "\n",
      "Parameters\n",
      "----------\n",
      "x : input float\n",
      "y : input float\n",
      "\n",
      "Returns\n",
      "-------\n",
      "z : float\n",
      "\n"
     ]
    }
   ],
   "source": [
    "print(f1.__doc__)"
   ]
  },
  {
   "cell_type": "code",
   "execution_count": 6,
   "metadata": {
    "collapsed": false,
    "deletable": true,
    "editable": true
   },
   "outputs": [
    {
     "name": "stdout",
     "output_type": "stream",
     "text": [
      "Running...\n",
      "   /usr/local/opt/python3/bin/python3.5 -m numpy.f2py --fcompiler=gnu95 -m _fortran_magic_c0f28e8d9e0cfa360fddfac28666c911 -c /Users/mac/.ipython/fortran/_fortran_magic_c0f28e8d9e0cfa360fddfac28666c911.f90\n",
      "running build\n",
      "running config_cc\n",
      "unifing config_cc, config, build_clib, build_ext, build commands --compiler options\n",
      "running config_fc\n",
      "unifing config_fc, config, build_clib, build_ext, build commands --fcompiler options\n",
      "running build_src\n",
      "build_src\n",
      "building extension \"_fortran_magic_c0f28e8d9e0cfa360fddfac28666c911\" sources\n",
      "f2py options: []\n",
      "f2py:> /var/folders/qr/bp962l4d4msfkd10wx2b41z80000gn/T/tmpb5xk6hz9/src.macosx-10.9-x86_64-3.5/_fortran_magic_c0f28e8d9e0cfa360fddfac28666c911module.c\n",
      "creating /var/folders/qr/bp962l4d4msfkd10wx2b41z80000gn/T/tmpb5xk6hz9/src.macosx-10.9-x86_64-3.5\n",
      "Reading fortran codes...\n",
      "\tReading file '/Users/mac/.ipython/fortran/_fortran_magic_c0f28e8d9e0cfa360fddfac28666c911.f90' (format:free)\n",
      "Post-processing...\n",
      "\tBlock: _fortran_magic_c0f28e8d9e0cfa360fddfac28666c911\n",
      "\t\t\tBlock: zadd\n",
      "Post-processing (stage 2)...\n",
      "Building modules...\n",
      "\tBuilding module \"_fortran_magic_c0f28e8d9e0cfa360fddfac28666c911\"...\n",
      "\t\tConstructing wrapper function \"zadd\"...\n",
      "getarrdims:warning: assumed shape array, using 0 instead of '*'\n",
      "getarrdims:warning: assumed shape array, using 0 instead of '*'\n",
      "getarrdims:warning: assumed shape array, using 0 instead of '*'\n",
      "\t\t  zadd(a,b,c,n)\n",
      "\tWrote C/API module \"_fortran_magic_c0f28e8d9e0cfa360fddfac28666c911\" to file \"/var/folders/qr/bp962l4d4msfkd10wx2b41z80000gn/T/tmpb5xk6hz9/src.macosx-10.9-x86_64-3.5/_fortran_magic_c0f28e8d9e0cfa360fddfac28666c911module.c\"\n",
      "  adding '/var/folders/qr/bp962l4d4msfkd10wx2b41z80000gn/T/tmpb5xk6hz9/src.macosx-10.9-x86_64-3.5/fortranobject.c' to sources.\n",
      "  adding '/var/folders/qr/bp962l4d4msfkd10wx2b41z80000gn/T/tmpb5xk6hz9/src.macosx-10.9-x86_64-3.5' to include_dirs.\n",
      "copying /usr/local/lib/python3.5/site-packages/numpy/f2py/src/fortranobject.c -> /var/folders/qr/bp962l4d4msfkd10wx2b41z80000gn/T/tmpb5xk6hz9/src.macosx-10.9-x86_64-3.5\n",
      "copying /usr/local/lib/python3.5/site-packages/numpy/f2py/src/fortranobject.h -> /var/folders/qr/bp962l4d4msfkd10wx2b41z80000gn/T/tmpb5xk6hz9/src.macosx-10.9-x86_64-3.5\n",
      "build_src: building npy-pkg config files\n",
      "running build_ext\n",
      "customize UnixCCompiler\n",
      "customize UnixCCompiler using build_ext\n",
      "customize Gnu95FCompiler\n",
      "Found executable /usr/local/bin/gfortran\n",
      "customize Gnu95FCompiler using build_ext\n",
      "building '_fortran_magic_c0f28e8d9e0cfa360fddfac28666c911' extension\n",
      "compiling C sources\n",
      "C compiler: clang -Wno-unused-result -Wsign-compare -Wunreachable-code -fno-common -dynamic -DNDEBUG -g -fwrapv -O3 -Wall -Wstrict-prototypes\n",
      "\n",
      "creating /var/folders/qr/bp962l4d4msfkd10wx2b41z80000gn/T/tmpb5xk6hz9/var\n",
      "creating /var/folders/qr/bp962l4d4msfkd10wx2b41z80000gn/T/tmpb5xk6hz9/var/folders\n",
      "creating /var/folders/qr/bp962l4d4msfkd10wx2b41z80000gn/T/tmpb5xk6hz9/var/folders/qr\n",
      "creating /var/folders/qr/bp962l4d4msfkd10wx2b41z80000gn/T/tmpb5xk6hz9/var/folders/qr/bp962l4d4msfkd10wx2b41z80000gn\n",
      "creating /var/folders/qr/bp962l4d4msfkd10wx2b41z80000gn/T/tmpb5xk6hz9/var/folders/qr/bp962l4d4msfkd10wx2b41z80000gn/T\n",
      "creating /var/folders/qr/bp962l4d4msfkd10wx2b41z80000gn/T/tmpb5xk6hz9/var/folders/qr/bp962l4d4msfkd10wx2b41z80000gn/T/tmpb5xk6hz9\n",
      "creating /var/folders/qr/bp962l4d4msfkd10wx2b41z80000gn/T/tmpb5xk6hz9/var/folders/qr/bp962l4d4msfkd10wx2b41z80000gn/T/tmpb5xk6hz9/src.macosx-10.9-x86_64-3.5\n",
      "compile options: '-I/var/folders/qr/bp962l4d4msfkd10wx2b41z80000gn/T/tmpb5xk6hz9/src.macosx-10.9-x86_64-3.5 -I/usr/local/lib/python3.5/site-packages/numpy/core/include -I/usr/local/include -I/usr/local/opt/openssl/include -I/usr/local/opt/sqlite/include -I/usr/local/Cellar/python3/3.5.2_3/Frameworks/Python.framework/Versions/3.5/include/python3.5m -c'\n",
      "clang: /var/folders/qr/bp962l4d4msfkd10wx2b41z80000gn/T/tmpb5xk6hz9/src.macosx-10.9-x86_64-3.5/fortranobject.c\n",
      "In file included from /var/folders/qr/bp962l4d4msfkd10wx2b41z80000gn/T/tmpb5xk6hz9/src.macosx-10.9-x86_64-3.5/fortranobject.c:2:\n",
      "In file included from /var/folders/qr/bp962l4d4msfkd10wx2b41z80000gn/T/tmpb5xk6hz9/src.macosx-10.9-x86_64-3.5/fortranobject.h:13:\n",
      "In file included from /usr/local/lib/python3.5/site-packages/numpy/core/include/numpy/arrayobject.h:4:\n",
      "In file included from /usr/local/lib/python3.5/site-packages/numpy/core/include/numpy/ndarrayobject.h:18:\n",
      "In file included from /usr/local/lib/python3.5/site-packages/numpy/core/include/numpy/ndarraytypes.h:1788:\n",
      "/usr/local/lib/python3.5/site-packages/numpy/core/include/numpy/npy_1_7_deprecated_api.h:15:2: warning: \"Using deprecated NumPy API, disable it by \"          \"#defining NPY_NO_DEPRECATED_API NPY_1_7_API_VERSION\" [-W#warnings]\n",
      "#warning \"Using deprecated NumPy API, disable it by \" \\\n",
      " ^\n",
      "/var/folders/qr/bp962l4d4msfkd10wx2b41z80000gn/T/tmpb5xk6hz9/src.macosx-10.9-x86_64-3.5/fortranobject.c:139:18: warning: comparison of integers of different signs: 'Py_ssize_t' (aka 'long') and 'unsigned long' [-Wsign-compare]\n",
      "        if (size < sizeof(notalloc)) {\n",
      "            ~~~~ ^ ~~~~~~~~~~~~~~~~\n",
      "2 warnings generated.\n",
      "clang: /var/folders/qr/bp962l4d4msfkd10wx2b41z80000gn/T/tmpb5xk6hz9/src.macosx-10.9-x86_64-3.5/_fortran_magic_c0f28e8d9e0cfa360fddfac28666c911module.c\n",
      "In file included from /var/folders/qr/bp962l4d4msfkd10wx2b41z80000gn/T/tmpb5xk6hz9/src.macosx-10.9-x86_64-3.5/_fortran_magic_c0f28e8d9e0cfa360fddfac28666c911module.c:19:\n",
      "In file included from /var/folders/qr/bp962l4d4msfkd10wx2b41z80000gn/T/tmpb5xk6hz9/src.macosx-10.9-x86_64-3.5/fortranobject.h:13:\n",
      "In file included from /usr/local/lib/python3.5/site-packages/numpy/core/include/numpy/arrayobject.h:4:\n",
      "In file included from /usr/local/lib/python3.5/site-packages/numpy/core/include/numpy/ndarrayobject.h:18:\n",
      "In file included from /usr/local/lib/python3.5/site-packages/numpy/core/include/numpy/ndarraytypes.h:1788:\n",
      "/usr/local/lib/python3.5/site-packages/numpy/core/include/numpy/npy_1_7_deprecated_api.h:15:2: warning: \"Using deprecated NumPy API, disable it by \"          \"#defining NPY_NO_DEPRECATED_API NPY_1_7_API_VERSION\" [-W#warnings]\n",
      "#warning \"Using deprecated NumPy API, disable it by \" \\\n",
      " ^\n",
      "/var/folders/qr/bp962l4d4msfkd10wx2b41z80000gn/T/tmpb5xk6hz9/src.macosx-10.9-x86_64-3.5/_fortran_magic_c0f28e8d9e0cfa360fddfac28666c911module.c:105:12: warning: unused function 'f2py_size' [-Wunused-function]\n",
      "static int f2py_size(PyArrayObject* var, ...)\n",
      "           ^\n",
      "2 warnings generated.\n",
      "compiling Fortran sources\n",
      "Fortran f77 compiler: /usr/local/bin/gfortran -Wall -g -ffixed-form -fno-second-underscore -fPIC -O3 -funroll-loops\n",
      "Fortran f90 compiler: /usr/local/bin/gfortran -Wall -g -fno-second-underscore -fPIC -O3 -funroll-loops\n",
      "Fortran fix compiler: /usr/local/bin/gfortran -Wall -g -ffixed-form -fno-second-underscore -Wall -g -fno-second-underscore -fPIC -O3 -funroll-loops\n",
      "creating /var/folders/qr/bp962l4d4msfkd10wx2b41z80000gn/T/tmpb5xk6hz9/Users\n",
      "creating /var/folders/qr/bp962l4d4msfkd10wx2b41z80000gn/T/tmpb5xk6hz9/Users/mac\n",
      "creating /var/folders/qr/bp962l4d4msfkd10wx2b41z80000gn/T/tmpb5xk6hz9/Users/mac/.ipython\n",
      "creating /var/folders/qr/bp962l4d4msfkd10wx2b41z80000gn/T/tmpb5xk6hz9/Users/mac/.ipython/fortran\n",
      "compile options: '-I/var/folders/qr/bp962l4d4msfkd10wx2b41z80000gn/T/tmpb5xk6hz9/src.macosx-10.9-x86_64-3.5 -I/usr/local/lib/python3.5/site-packages/numpy/core/include -I/usr/local/include -I/usr/local/opt/openssl/include -I/usr/local/opt/sqlite/include -I/usr/local/Cellar/python3/3.5.2_3/Frameworks/Python.framework/Versions/3.5/include/python3.5m -c'\n",
      "gfortran:f90: /Users/mac/.ipython/fortran/_fortran_magic_c0f28e8d9e0cfa360fddfac28666c911.f90\n",
      "/usr/local/bin/gfortran -Wall -g -Wall -g -undefined dynamic_lookup -bundle /var/folders/qr/bp962l4d4msfkd10wx2b41z80000gn/T/tmpb5xk6hz9/var/folders/qr/bp962l4d4msfkd10wx2b41z80000gn/T/tmpb5xk6hz9/src.macosx-10.9-x86_64-3.5/_fortran_magic_c0f28e8d9e0cfa360fddfac28666c911module.o /var/folders/qr/bp962l4d4msfkd10wx2b41z80000gn/T/tmpb5xk6hz9/var/folders/qr/bp962l4d4msfkd10wx2b41z80000gn/T/tmpb5xk6hz9/src.macosx-10.9-x86_64-3.5/fortranobject.o /var/folders/qr/bp962l4d4msfkd10wx2b41z80000gn/T/tmpb5xk6hz9/Users/mac/.ipython/fortran/_fortran_magic_c0f28e8d9e0cfa360fddfac28666c911.o -L/usr/local/Cellar/gcc/6.3.0_1/lib/gcc/6/gcc/x86_64-apple-darwin13.4.0/6.3.0 -L/usr/local/lib -L/usr/local/opt/openssl/lib -L/usr/local/opt/sqlite/lib -lgfortran -o ./_fortran_magic_c0f28e8d9e0cfa360fddfac28666c911.cpython-35m-darwin.so\n",
      "Removing build directory /var/folders/qr/bp962l4d4msfkd10wx2b41z80000gn/T/tmpb5xk6hz9\n",
      "\n",
      "Ok. The following fortran objects are ready to use: zadd\n"
     ]
    }
   ],
   "source": [
    "%%fortran --fcompiler gnu95 -vvv\n",
    "    SUBROUTINE ZADD(A, B, C, N)\n",
    "\n",
    "    DOUBLE COMPLEX A(*)\n",
    "    DOUBLE COMPLEX B(*)\n",
    "    DOUBLE COMPLEX C(*)\n",
    "    INTEGER N\n",
    "    \n",
    "    DO 20 J = 1, N\n",
    "        C(J) = A(J) + B(J)\n",
    "20  CONTINUE\n",
    "    END"
   ]
  },
  {
   "cell_type": "code",
   "execution_count": 21,
   "metadata": {
    "collapsed": false,
    "deletable": true,
    "editable": true
   },
   "outputs": [
    {
     "name": "stdout",
     "output_type": "stream",
     "text": [
      "Running...\n",
      "   /usr/local/opt/python3/bin/python3.5 -m numpy.f2py --fcompiler=gnu95 -m _fortran_magic_f6d4fbbcef3f3e3d020f46f82a4490eb -c /Users/mac/.ipython/fortran/_fortran_magic_f6d4fbbcef3f3e3d020f46f82a4490eb.f90\n",
      "running build\n",
      "running config_cc\n",
      "unifing config_cc, config, build_clib, build_ext, build commands --compiler options\n",
      "running config_fc\n",
      "unifing config_fc, config, build_clib, build_ext, build commands --fcompiler options\n",
      "running build_src\n",
      "build_src\n",
      "building extension \"_fortran_magic_f6d4fbbcef3f3e3d020f46f82a4490eb\" sources\n",
      "f2py options: []\n",
      "f2py:> /var/folders/qr/bp962l4d4msfkd10wx2b41z80000gn/T/tmpiitk9frs/src.macosx-10.9-x86_64-3.5/_fortran_magic_f6d4fbbcef3f3e3d020f46f82a4490ebmodule.c\n",
      "creating /var/folders/qr/bp962l4d4msfkd10wx2b41z80000gn/T/tmpiitk9frs/src.macosx-10.9-x86_64-3.5\n",
      "Reading fortran codes...\n",
      "\tReading file '/Users/mac/.ipython/fortran/_fortran_magic_f6d4fbbcef3f3e3d020f46f82a4490eb.f90' (format:free)\n",
      "Post-processing...\n",
      "\tBlock: _fortran_magic_f6d4fbbcef3f3e3d020f46f82a4490eb\n",
      "\t\t\tBlock: potdat4\n",
      "Post-processing (stage 2)...\n",
      "Building modules...\n",
      "\tBuilding module \"_fortran_magic_f6d4fbbcef3f3e3d020f46f82a4490eb\"...\n",
      "\t\tConstructing wrapper function \"potdat4\"...\n",
      "\t\t  potdat4()\n",
      "\t\tConstructing COMMON block support for \"pothut\"...\n",
      "\t\t  rlam,blam,olam\n",
      "\tWrote C/API module \"_fortran_magic_f6d4fbbcef3f3e3d020f46f82a4490eb\" to file \"/var/folders/qr/bp962l4d4msfkd10wx2b41z80000gn/T/tmpiitk9frs/src.macosx-10.9-x86_64-3.5/_fortran_magic_f6d4fbbcef3f3e3d020f46f82a4490ebmodule.c\"\n",
      "\tFortran 77 wrappers are saved to \"/var/folders/qr/bp962l4d4msfkd10wx2b41z80000gn/T/tmpiitk9frs/src.macosx-10.9-x86_64-3.5/_fortran_magic_f6d4fbbcef3f3e3d020f46f82a4490eb-f2pywrappers.f\"\n",
      "  adding '/var/folders/qr/bp962l4d4msfkd10wx2b41z80000gn/T/tmpiitk9frs/src.macosx-10.9-x86_64-3.5/fortranobject.c' to sources.\n",
      "  adding '/var/folders/qr/bp962l4d4msfkd10wx2b41z80000gn/T/tmpiitk9frs/src.macosx-10.9-x86_64-3.5' to include_dirs.\n",
      "copying /usr/local/lib/python3.5/site-packages/numpy/f2py/src/fortranobject.c -> /var/folders/qr/bp962l4d4msfkd10wx2b41z80000gn/T/tmpiitk9frs/src.macosx-10.9-x86_64-3.5\n",
      "copying /usr/local/lib/python3.5/site-packages/numpy/f2py/src/fortranobject.h -> /var/folders/qr/bp962l4d4msfkd10wx2b41z80000gn/T/tmpiitk9frs/src.macosx-10.9-x86_64-3.5\n",
      "  adding '/var/folders/qr/bp962l4d4msfkd10wx2b41z80000gn/T/tmpiitk9frs/src.macosx-10.9-x86_64-3.5/_fortran_magic_f6d4fbbcef3f3e3d020f46f82a4490eb-f2pywrappers.f' to sources.\n",
      "build_src: building npy-pkg config files\n",
      "running build_ext\n",
      "customize UnixCCompiler\n",
      "customize UnixCCompiler using build_ext\n",
      "customize Gnu95FCompiler\n",
      "Found executable /usr/local/bin/gfortran\n",
      "customize Gnu95FCompiler using build_ext\n",
      "building '_fortran_magic_f6d4fbbcef3f3e3d020f46f82a4490eb' extension\n",
      "compiling C sources\n",
      "C compiler: clang -Wno-unused-result -Wsign-compare -Wunreachable-code -fno-common -dynamic -DNDEBUG -g -fwrapv -O3 -Wall -Wstrict-prototypes\n",
      "\n",
      "creating /var/folders/qr/bp962l4d4msfkd10wx2b41z80000gn/T/tmpiitk9frs/var\n",
      "creating /var/folders/qr/bp962l4d4msfkd10wx2b41z80000gn/T/tmpiitk9frs/var/folders\n",
      "creating /var/folders/qr/bp962l4d4msfkd10wx2b41z80000gn/T/tmpiitk9frs/var/folders/qr\n",
      "creating /var/folders/qr/bp962l4d4msfkd10wx2b41z80000gn/T/tmpiitk9frs/var/folders/qr/bp962l4d4msfkd10wx2b41z80000gn\n",
      "creating /var/folders/qr/bp962l4d4msfkd10wx2b41z80000gn/T/tmpiitk9frs/var/folders/qr/bp962l4d4msfkd10wx2b41z80000gn/T\n",
      "creating /var/folders/qr/bp962l4d4msfkd10wx2b41z80000gn/T/tmpiitk9frs/var/folders/qr/bp962l4d4msfkd10wx2b41z80000gn/T/tmpiitk9frs\n",
      "creating /var/folders/qr/bp962l4d4msfkd10wx2b41z80000gn/T/tmpiitk9frs/var/folders/qr/bp962l4d4msfkd10wx2b41z80000gn/T/tmpiitk9frs/src.macosx-10.9-x86_64-3.5\n",
      "compile options: '-I/var/folders/qr/bp962l4d4msfkd10wx2b41z80000gn/T/tmpiitk9frs/src.macosx-10.9-x86_64-3.5 -I/usr/local/lib/python3.5/site-packages/numpy/core/include -I/usr/local/include -I/usr/local/opt/openssl/include -I/usr/local/opt/sqlite/include -I/usr/local/Cellar/python3/3.5.2_3/Frameworks/Python.framework/Versions/3.5/include/python3.5m -c'\n",
      "clang: /var/folders/qr/bp962l4d4msfkd10wx2b41z80000gn/T/tmpiitk9frs/src.macosx-10.9-x86_64-3.5/fortranobject.c\n",
      "In file included from /var/folders/qr/bp962l4d4msfkd10wx2b41z80000gn/T/tmpiitk9frs/src.macosx-10.9-x86_64-3.5/fortranobject.c:2:\n",
      "In file included from /var/folders/qr/bp962l4d4msfkd10wx2b41z80000gn/T/tmpiitk9frs/src.macosx-10.9-x86_64-3.5/fortranobject.h:13:\n",
      "In file included from /usr/local/lib/python3.5/site-packages/numpy/core/include/numpy/arrayobject.h:4:\n",
      "In file included from /usr/local/lib/python3.5/site-packages/numpy/core/include/numpy/ndarrayobject.h:18:\n",
      "In file included from /usr/local/lib/python3.5/site-packages/numpy/core/include/numpy/ndarraytypes.h:1788:\n",
      "/usr/local/lib/python3.5/site-packages/numpy/core/include/numpy/npy_1_7_deprecated_api.h:15:2: warning: \"Using deprecated NumPy API, disable it by \"          \"#defining NPY_NO_DEPRECATED_API NPY_1_7_API_VERSION\" [-W#warnings]\n",
      "#warning \"Using deprecated NumPy API, disable it by \" \\\n",
      " ^\n",
      "/var/folders/qr/bp962l4d4msfkd10wx2b41z80000gn/T/tmpiitk9frs/src.macosx-10.9-x86_64-3.5/fortranobject.c:139:18: warning: comparison of integers of different signs: 'Py_ssize_t' (aka 'long') and 'unsigned long' [-Wsign-compare]\n",
      "        if (size < sizeof(notalloc)) {\n",
      "            ~~~~ ^ ~~~~~~~~~~~~~~~~\n",
      "2 warnings generated.\n",
      "clang: /var/folders/qr/bp962l4d4msfkd10wx2b41z80000gn/T/tmpiitk9frs/src.macosx-10.9-x86_64-3.5/_fortran_magic_f6d4fbbcef3f3e3d020f46f82a4490ebmodule.c\n",
      "In file included from /var/folders/qr/bp962l4d4msfkd10wx2b41z80000gn/T/tmpiitk9frs/src.macosx-10.9-x86_64-3.5/_fortran_magic_f6d4fbbcef3f3e3d020f46f82a4490ebmodule.c:18:\n",
      "In file included from /var/folders/qr/bp962l4d4msfkd10wx2b41z80000gn/T/tmpiitk9frs/src.macosx-10.9-x86_64-3.5/fortranobject.h:13:\n",
      "In file included from /usr/local/lib/python3.5/site-packages/numpy/core/include/numpy/arrayobject.h:4:\n",
      "In file included from /usr/local/lib/python3.5/site-packages/numpy/core/include/numpy/ndarrayobject.h:18:\n",
      "In file included from /usr/local/lib/python3.5/site-packages/numpy/core/include/numpy/ndarraytypes.h:1788:\n",
      "/usr/local/lib/python3.5/site-packages/numpy/core/include/numpy/npy_1_7_deprecated_api.h:15:2: warning: \"Using deprecated NumPy API, disable it by \"          \"#defining NPY_NO_DEPRECATED_API NPY_1_7_API_VERSION\" [-W#warnings]\n",
      "#warning \"Using deprecated NumPy API, disable it by \" \\\n",
      " ^\n",
      "1 warning generated.\n",
      "compiling Fortran sources\n",
      "Fortran f77 compiler: /usr/local/bin/gfortran -Wall -g -ffixed-form -fno-second-underscore -fPIC -O3 -funroll-loops\n",
      "Fortran f90 compiler: /usr/local/bin/gfortran -Wall -g -fno-second-underscore -fPIC -O3 -funroll-loops\n",
      "Fortran fix compiler: /usr/local/bin/gfortran -Wall -g -ffixed-form -fno-second-underscore -Wall -g -fno-second-underscore -fPIC -O3 -funroll-loops\n",
      "creating /var/folders/qr/bp962l4d4msfkd10wx2b41z80000gn/T/tmpiitk9frs/Users\n",
      "creating /var/folders/qr/bp962l4d4msfkd10wx2b41z80000gn/T/tmpiitk9frs/Users/mac\n",
      "creating /var/folders/qr/bp962l4d4msfkd10wx2b41z80000gn/T/tmpiitk9frs/Users/mac/.ipython\n",
      "creating /var/folders/qr/bp962l4d4msfkd10wx2b41z80000gn/T/tmpiitk9frs/Users/mac/.ipython/fortran\n",
      "compile options: '-I/var/folders/qr/bp962l4d4msfkd10wx2b41z80000gn/T/tmpiitk9frs/src.macosx-10.9-x86_64-3.5 -I/usr/local/lib/python3.5/site-packages/numpy/core/include -I/usr/local/include -I/usr/local/opt/openssl/include -I/usr/local/opt/sqlite/include -I/usr/local/Cellar/python3/3.5.2_3/Frameworks/Python.framework/Versions/3.5/include/python3.5m -c'\n",
      "gfortran:f90: /Users/mac/.ipython/fortran/_fortran_magic_f6d4fbbcef3f3e3d020f46f82a4490eb.f90\n",
      "/Users/mac/.ipython/fortran/_fortran_magic_f6d4fbbcef3f3e3d020f46f82a4490eb.f90:4:50:\n",
      "\n",
      "         COMMON/POTHUT/ RLAM(20),BLAM(20),OLAM(20),\n",
      "                                                  1\n",
      "Error: Syntax error in COMMON statement at (1)\n",
      "/Users/mac/.ipython/fortran/_fortran_magic_f6d4fbbcef3f3e3d020f46f82a4490eb.f90:5:6:\n",
      "\n",
      "     1RDISPC\n",
      "      1\n",
      "Error: Non-numeric character in statement label at (1)\n",
      "/Users/mac/.ipython/fortran/_fortran_magic_f6d4fbbcef3f3e3d020f46f82a4490eb.f90:5:6:\n",
      "\n",
      "     1RDISPC\n",
      "      1\n",
      "Error: Unclassifiable statement at (1)\n",
      "/Users/mac/.ipython/fortran/_fortran_magic_f6d4fbbcef3f3e3d020f46f82a4490eb.f90:4:50:\n",
      "\n",
      "         COMMON/POTHUT/ RLAM(20),BLAM(20),OLAM(20),\n",
      "                                                  1\n",
      "Error: Syntax error in COMMON statement at (1)\n",
      "/Users/mac/.ipython/fortran/_fortran_magic_f6d4fbbcef3f3e3d020f46f82a4490eb.f90:5:6:\n",
      "\n",
      "     1RDISPC\n",
      "      1\n",
      "Error: Non-numeric character in statement label at (1)\n",
      "/Users/mac/.ipython/fortran/_fortran_magic_f6d4fbbcef3f3e3d020f46f82a4490eb.f90:5:6:\n",
      "\n",
      "     1RDISPC\n",
      "      1\n",
      "Error: Unclassifiable statement at (1)\n"
     ]
    },
    {
     "name": "stderr",
     "output_type": "stream",
     "text": [
      "error: Command \"/usr/local/bin/gfortran -Wall -g -fno-second-underscore -fPIC -O3 -funroll-loops -I/var/folders/qr/bp962l4d4msfkd10wx2b41z80000gn/T/tmpiitk9frs/src.macosx-10.9-x86_64-3.5 -I/usr/local/lib/python3.5/site-packages/numpy/core/include -I/usr/local/include -I/usr/local/opt/openssl/include -I/usr/local/opt/sqlite/include -I/usr/local/Cellar/python3/3.5.2_3/Frameworks/Python.framework/Versions/3.5/include/python3.5m -c -c /Users/mac/.ipython/fortran/_fortran_magic_f6d4fbbcef3f3e3d020f46f82a4490eb.f90 -o /var/folders/qr/bp962l4d4msfkd10wx2b41z80000gn/T/tmpiitk9frs/Users/mac/.ipython/fortran/_fortran_magic_f6d4fbbcef3f3e3d020f46f82a4490eb.o\" failed with exit status 1\n"
     ]
    },
    {
     "ename": "RuntimeError",
     "evalue": "f2py failed, see output",
     "output_type": "error",
     "traceback": [
      "\u001b[0;31m---------------------------------------------------------------------------\u001b[0m",
      "\u001b[0;31mRuntimeError\u001b[0m                              Traceback (most recent call last)",
      "\u001b[0;32m<ipython-input-21-ef333d4bb941>\u001b[0m in \u001b[0;36m<module>\u001b[0;34m()\u001b[0m\n\u001b[0;32m----> 1\u001b[0;31m \u001b[0mget_ipython\u001b[0m\u001b[0;34m(\u001b[0m\u001b[0;34m)\u001b[0m\u001b[0;34m.\u001b[0m\u001b[0mrun_cell_magic\u001b[0m\u001b[0;34m(\u001b[0m\u001b[0;34m'fortran'\u001b[0m\u001b[0;34m,\u001b[0m \u001b[0;34m'--fcompiler gnu95 -vvv'\u001b[0m\u001b[0;34m,\u001b[0m \u001b[0;34m'\\n    SUBROUTINE POTDAT4\\n    IMPLICIT REAL*8 (A-H,O-Z)\\n        COMMON/POTHUT/ RLAM(20),BLAM(20),OLAM(20),\\n    1RDISPC\\n\\n    RETURN\\n    END\\n    \\n    '\u001b[0m\u001b[0;34m)\u001b[0m\u001b[0;34m\u001b[0m\u001b[0m\n\u001b[0m",
      "\u001b[0;32m/usr/local/lib/python3.5/site-packages/IPython/core/interactiveshell.py\u001b[0m in \u001b[0;36mrun_cell_magic\u001b[0;34m(self, magic_name, line, cell)\u001b[0m\n\u001b[1;32m   2113\u001b[0m             \u001b[0mmagic_arg_s\u001b[0m \u001b[0;34m=\u001b[0m \u001b[0mself\u001b[0m\u001b[0;34m.\u001b[0m\u001b[0mvar_expand\u001b[0m\u001b[0;34m(\u001b[0m\u001b[0mline\u001b[0m\u001b[0;34m,\u001b[0m \u001b[0mstack_depth\u001b[0m\u001b[0;34m)\u001b[0m\u001b[0;34m\u001b[0m\u001b[0m\n\u001b[1;32m   2114\u001b[0m             \u001b[0;32mwith\u001b[0m \u001b[0mself\u001b[0m\u001b[0;34m.\u001b[0m\u001b[0mbuiltin_trap\u001b[0m\u001b[0;34m:\u001b[0m\u001b[0;34m\u001b[0m\u001b[0m\n\u001b[0;32m-> 2115\u001b[0;31m                 \u001b[0mresult\u001b[0m \u001b[0;34m=\u001b[0m \u001b[0mfn\u001b[0m\u001b[0;34m(\u001b[0m\u001b[0mmagic_arg_s\u001b[0m\u001b[0;34m,\u001b[0m \u001b[0mcell\u001b[0m\u001b[0;34m)\u001b[0m\u001b[0;34m\u001b[0m\u001b[0m\n\u001b[0m\u001b[1;32m   2116\u001b[0m             \u001b[0;32mreturn\u001b[0m \u001b[0mresult\u001b[0m\u001b[0;34m\u001b[0m\u001b[0m\n\u001b[1;32m   2117\u001b[0m \u001b[0;34m\u001b[0m\u001b[0m\n",
      "\u001b[0;32m<decorator-gen-124>\u001b[0m in \u001b[0;36mfortran\u001b[0;34m(self, line, cell)\u001b[0m\n",
      "\u001b[0;32m/usr/local/lib/python3.5/site-packages/IPython/core/magic.py\u001b[0m in \u001b[0;36m<lambda>\u001b[0;34m(f, *a, **k)\u001b[0m\n\u001b[1;32m    186\u001b[0m     \u001b[0;31m# but it's overkill for just that one bit of state.\u001b[0m\u001b[0;34m\u001b[0m\u001b[0;34m\u001b[0m\u001b[0m\n\u001b[1;32m    187\u001b[0m     \u001b[0;32mdef\u001b[0m \u001b[0mmagic_deco\u001b[0m\u001b[0;34m(\u001b[0m\u001b[0marg\u001b[0m\u001b[0;34m)\u001b[0m\u001b[0;34m:\u001b[0m\u001b[0;34m\u001b[0m\u001b[0m\n\u001b[0;32m--> 188\u001b[0;31m         \u001b[0mcall\u001b[0m \u001b[0;34m=\u001b[0m \u001b[0;32mlambda\u001b[0m \u001b[0mf\u001b[0m\u001b[0;34m,\u001b[0m \u001b[0;34m*\u001b[0m\u001b[0ma\u001b[0m\u001b[0;34m,\u001b[0m \u001b[0;34m**\u001b[0m\u001b[0mk\u001b[0m\u001b[0;34m:\u001b[0m \u001b[0mf\u001b[0m\u001b[0;34m(\u001b[0m\u001b[0;34m*\u001b[0m\u001b[0ma\u001b[0m\u001b[0;34m,\u001b[0m \u001b[0;34m**\u001b[0m\u001b[0mk\u001b[0m\u001b[0;34m)\u001b[0m\u001b[0;34m\u001b[0m\u001b[0m\n\u001b[0m\u001b[1;32m    189\u001b[0m \u001b[0;34m\u001b[0m\u001b[0m\n\u001b[1;32m    190\u001b[0m         \u001b[0;32mif\u001b[0m \u001b[0mcallable\u001b[0m\u001b[0;34m(\u001b[0m\u001b[0marg\u001b[0m\u001b[0;34m)\u001b[0m\u001b[0;34m:\u001b[0m\u001b[0;34m\u001b[0m\u001b[0m\n",
      "\u001b[0;32m/usr/local/lib/python3.5/site-packages/fortranmagic.py\u001b[0m in \u001b[0;36mfortran\u001b[0;34m(self, line, cell)\u001b[0m\n\u001b[1;32m    377\u001b[0m                              verbosity=args.verbosity)\n\u001b[1;32m    378\u001b[0m         \u001b[0;32mif\u001b[0m \u001b[0mres\u001b[0m \u001b[0;34m!=\u001b[0m \u001b[0;36m0\u001b[0m\u001b[0;34m:\u001b[0m\u001b[0;34m\u001b[0m\u001b[0m\n\u001b[0;32m--> 379\u001b[0;31m            \u001b[0;32mraise\u001b[0m \u001b[0mRuntimeError\u001b[0m\u001b[0;34m(\u001b[0m\u001b[0;34m\"f2py failed, see output\"\u001b[0m\u001b[0;34m)\u001b[0m\u001b[0;34m\u001b[0m\u001b[0m\n\u001b[0m\u001b[1;32m    380\u001b[0m \u001b[0;34m\u001b[0m\u001b[0m\n\u001b[1;32m    381\u001b[0m         \u001b[0mself\u001b[0m\u001b[0;34m.\u001b[0m\u001b[0m_code_cache\u001b[0m\u001b[0;34m[\u001b[0m\u001b[0mkey\u001b[0m\u001b[0;34m]\u001b[0m \u001b[0;34m=\u001b[0m \u001b[0mmodule_name\u001b[0m\u001b[0;34m\u001b[0m\u001b[0m\n",
      "\u001b[0;31mRuntimeError\u001b[0m: f2py failed, see output"
     ]
    }
   ],
   "source": [
    "%%fortran --fcompiler gnu95 -vvv\n",
    "\n",
    "    SUBROUTINE POTDAT4\n",
    "    IMPLICIT REAL*8 (A-H,O-Z)\n",
    "        COMMON/POTHUT/ RLAM(20),BLAM(20),OLAM(20),\n",
    "  1 RDISPC,RREF,BFAC,RDISPO,BOND,C8O2,ISITE,C10O,C8O,C6O,C10C2,C8C2,\n",
    "  2 C6C2,C10C,C8C,C6C,SITE,C10O2,SFAC2,SFAC0,C6O2,SFACE,SFACC,\n",
    "  3 NLEGC,NLEGO\n",
    "\n",
    "    RETURN\n",
    "    END\n",
    "    \n",
    "    "
   ]
  },
  {
   "cell_type": "code",
   "execution_count": null,
   "metadata": {
    "collapsed": true
   },
   "outputs": [],
   "source": [
    " DATA ISITE,SFAC0,SFAC2,BFAC/1, 4.6454D0, 0.6288D0, 1.D0/\n",
    "      DATA NLEGC,NLEGO,RREF,BOND/5, 5, 7.D0, 2.196D0/\n",
    "    DATA (RLAM(I),BLAM(I),I=1,10)/\n",
    "    1 32.27581D0, 2.03171D0,\n",
    "    2  0.D0     ,      0.D0,\n",
    "    3 11.85757D0, 1.79571D0,\n",
    "    4  0.D0     ,      0.D0,\n",
    "    5 -9.41362D0, 2.09529D0,\n",
    "    6 32.36857D0, 2.12256D0,\n",
    "    7 -3.40252D0, 1.87293D0,\n",
    "    8 -1.68672D0, 2.18922D0,\n",
    "    9 -1.91165D0, 1.96196D0,\n",
    "    1  1.10092D0, 1.98533D0/\n"
   ]
  }
 ],
 "metadata": {
  "kernelspec": {
   "display_name": "Python 3",
   "language": "python",
   "name": "python3"
  },
  "language_info": {
   "codemirror_mode": {
    "name": "ipython",
    "version": 3
   },
   "file_extension": ".py",
   "mimetype": "text/x-python",
   "name": "python",
   "nbconvert_exporter": "python",
   "pygments_lexer": "ipython3",
   "version": "3.5.2"
  }
 },
 "nbformat": 4,
 "nbformat_minor": 2
}

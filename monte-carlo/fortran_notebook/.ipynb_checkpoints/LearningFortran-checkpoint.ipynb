{
 "cells": [
  {
   "cell_type": "code",
   "execution_count": 1,
   "metadata": {
    "collapsed": false
   },
   "outputs": [
    {
     "name": "stderr",
     "output_type": "stream",
     "text": [
      "/usr/local/lib/python3.5/site-packages/fortranmagic.py:147: UserWarning: get_ipython_cache_dir has moved to the IPython.paths module since IPython 4.0.\n",
      "  self._lib_dir = os.path.join(get_ipython_cache_dir(), 'fortran')\n"
     ]
    },
    {
     "data": {
      "application/javascript": [
       "$.getScript(\"https://raw.github.com/marijnh/CodeMirror/master/mode/fortran/fortran.js\", function () {\n",
       "IPython.config.cell_magic_highlight['magic_fortran'] = {'reg':[/^%%fortran/]};});\n"
      ]
     },
     "metadata": {},
     "output_type": "display_data"
    }
   ],
   "source": [
    "%load_ext fortranmagic"
   ]
  },
  {
   "cell_type": "code",
   "execution_count": 13,
   "metadata": {
    "collapsed": true
   },
   "outputs": [],
   "source": [
    "%%fortran\n",
    "\n",
    "subroutine CenterPos(Pos, Dim, NAtom)\n",
    "    ! tells the fortran compiler to raise an error if we do not define a variable that we use\n",
    "    implicit none\n",
    "    \n",
    "    ! variable declaration:\n",
    "    ! type TYPE, intent(INTENT) :: NAME -- for single values\n",
    "    ! type TYPE, intent(INTENT), dimension(DIMENSIONS) :: NAME -- for array arguments\n",
    "    ! type TYPE :: NAME -- other variables used within the function, that are not arguments/inputs or outputs\n",
    "    ! type TYPE, dimension(DIMENSIONS) :: NAME -- for array used inside function\n",
    "            \n",
    "    ! TYPE is a specifier that tells the function the numeric format of a variable\n",
    "    ! (PYTHON) == (FORTRAN)\n",
    "    ! float == real(8) -- also called double\n",
    "    ! int == integer\n",
    "    ! bool == logical\n",
    "    \n",
    "    ! INTENT specifier\n",
    "    ! in -- the variable is an input to the subroutine. Its value must not be changed during the course of subroutine\n",
    "    ! out -- we must assign this variable a value before exiting the subroutine\n",
    "    ! inout -- the subroutine both uses and modifies the data in the variable. \n",
    "    \n",
    "    integer, intent(in) :: Dim, NAtom\n",
    "    real(8), intent(inout), dimension(0:NAtom-1, 0:Dim-1) :: Pos\n",
    "    ! (by default arrays are numerated from 1 -- awful!)\n",
    "    ! says that the first axis of Pos varies from 0 to and including NAtom-1\n",
    "    ! and the second axis from 0 to and including Dim-1\n",
    "    \n",
    "    ! f2py will AUTOMATICALLY pass the dimensions when the fortran code is called as a python module,\n",
    "    ! so that these dimensional arguments are hidden. For that reason, one should always put any arguments\n",
    "    ! that specify dimensions at the end of the argument list\n",
    "            \n",
    "    real(8), dimension(0:Dim-1) :: PosAvg\n",
    "    integer :: i, j\n",
    "            \n",
    "    PosAvg = sum(Pos, 1) / dble(NAtom)\n",
    "    ! fortran function sum takes an array argument and sums it, optionally over a specified dimension\n",
    "    ! here, we indicate a summation over the first axis, that corresponding to the particle number. In other words, \n",
    "    ! fortran sums all of the x,y,z values separately and returns a length-three array. IMPORTANT -- the first axis\n",
    "    ! of an array is indicated with 1 rather than 0 (natural ordering begins at 1)\n",
    "    ! dble() function converts to a double-precision number. Not doing so will force the compiler to insert\n",
    "    ! conversions that may not be what we desired and could result in extra unanticipated steps that might\n",
    "    ! slow performance\n",
    "    \n",
    "    \n",
    "    ! loop\n",
    "    ! do VAR = START, STOP (inclusive!)\n",
    "    !    COMMANDS\n",
    "    ! end do\n",
    "    \n",
    "    ! do i = 0, NAtom - 1\n",
    "    !     do j = 0, Dim - 1\n",
    "    !         Pos(i, j) = Pos(i, j) - PosAvg(j)\n",
    "    !     end do\n",
    "    ! end do\n",
    "    \n",
    "    ! could be simplified to one loop using fortran slicing notation \n",
    "    !\n",
    "    do i = 0, NAtom - 1\n",
    "        Pos(i, :) = Pos(i, :) - PosAvg(:)\n",
    "    end do\n",
    "    \n",
    "end subroutine"
   ]
  },
  {
   "cell_type": "code",
   "execution_count": 5,
   "metadata": {
    "collapsed": false
   },
   "outputs": [],
   "source": [
    "%%fortran\n",
    "subroutine EnergyForces(Pos, L, rc, PEnergy, Forces, Dim, NAtom)\n",
    "    implicit none\n",
    "    \n",
    "    ! the arguments Pos, L and rc are all sent to the function using the intent(in) attribute and are not modified\n",
    "    integer, intent(in) :: Dim, NAtom\n",
    "    real(8), intent(in), dimension(0:NAtom-1, 0:Dim-1) :: Pos\n",
    "    real(8), intent(in) :: L, rc\n",
    "    \n",
    "    ! the float PEnergy is intent(out), meaning that it will be returned from our function\n",
    "    real(8), intent(out) :: PEnergy\n",
    "            \n",
    "    ! the reason that we did not use intent(out) for Forces is that this will ultimately imply creation\n",
    "    ! of a new array each time the function is called, after we compile with f2py\n",
    "    ! by declaring the array as intent(inout), we will be able to re-use an existing array for storing the forces,\n",
    "    ! thus avoiding any performance hit that would accompany new array creation\n",
    "    \n",
    "    real(8), intent(inout), dimension(0:NAtom-1, 0:Dim-1) :: Forces\n",
    "    real(8), dimension(Dim) :: rij, Fij\n",
    "    real(8) :: d, Shift\n",
    "    integer :: i, j\n",
    "    \n",
    "    PEnergy = 0.\n",
    "    Forces = 0.\n",
    "    Shift = -4. * (rc**(-12) - rc**(-6))\n",
    "    do i = 0, NAtom - 1\n",
    "        do j = i + 1, NAtom - 1\n",
    "            rij = Pos(j, :) - Pos(i, :)\n",
    "            ! rij is a length-three array and thus this line is actually implied loop over each element\n",
    "            \n",
    "            ! dnint() is the fortran function returning the nearest integer of its argument as a type double or real(8)\n",
    "            rij = rij - L * dnint(rij / L)\n",
    "            d = sqrt(sum(rij * rij))\n",
    "            \n",
    "            ! the cycle statement in Fortran is equivalent to continue in Python and it immediately causes the\n",
    "            ! innermost loop to advance and return to the next iteration\n",
    "            if (d > rc) then\n",
    "                cycle\n",
    "            end if\n",
    "            PEnergy = PEnergy + 4. * (d**(-12) - d**(-6)) + Shift\n",
    "            Fij = rij * (-48. * d**(-14) + 24. * d**(-12))\n",
    "            Forces(i, :) = Forces(i, :) + Fij\n",
    "            Forces(j, :) = Forces(j, :) - Fij\n",
    "        end do\n",
    "    end do\n",
    "end subroutine"
   ]
  }
 ],
 "metadata": {
  "kernelspec": {
   "display_name": "Python 3",
   "language": "python",
   "name": "python3"
  },
  "language_info": {
   "codemirror_mode": {
    "name": "ipython",
    "version": 3
   },
   "file_extension": ".py",
   "mimetype": "text/x-python",
   "name": "python",
   "nbconvert_exporter": "python",
   "pygments_lexer": "ipython3",
   "version": "3.5.2"
  }
 },
 "nbformat": 4,
 "nbformat_minor": 2
}

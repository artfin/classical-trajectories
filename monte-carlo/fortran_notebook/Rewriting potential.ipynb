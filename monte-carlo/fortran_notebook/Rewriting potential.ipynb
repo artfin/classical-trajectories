{
 "cells": [
  {
   "cell_type": "code",
   "execution_count": 21,
   "metadata": {
    "collapsed": false
   },
   "outputs": [
    {
     "name": "stdout",
     "output_type": "stream",
     "text": [
      "The fortranmagic extension is already loaded. To reload it, use:\n",
      "  %reload_ext fortranmagic\n"
     ]
    }
   ],
   "source": [
    "%load_ext fortranmagic\n",
    "import numpy as np"
   ]
  },
  {
   "cell_type": "code",
   "execution_count": 45,
   "metadata": {
    "collapsed": false
   },
   "outputs": [],
   "source": [
    "%%fortran\n",
    "\n",
    "subroutine sumleg(A, n, cx)\n",
    "    ! tells the fortran compiler to raise an error if we do not define a variable that we use\n",
    "    implicit none\n",
    "    \n",
    "    integer, intent(in) :: n\n",
    "    real(8), intent(in), dimension(0:n-1) :: A\n",
    "    integer, intent(in) :: cx\n",
    "        \n",
    "    print *, \"Input A: \", A\n",
    "    print *, \"n: \", n\n",
    "    print *, \"cx: \", cx\n",
    "end subroutine\n",
    "    \n",
    "    "
   ]
  },
  {
   "cell_type": "code",
   "execution_count": 48,
   "metadata": {
    "collapsed": false
   },
   "outputs": [],
   "source": [
    "sumleg(np.array([1, 2, 3]), 2)"
   ]
  },
  {
   "cell_type": "code",
   "execution_count": 20,
   "metadata": {
    "collapsed": false
   },
   "outputs": [],
   "source": []
  },
  {
   "cell_type": "code",
   "execution_count": null,
   "metadata": {
    "collapsed": true
   },
   "outputs": [],
   "source": [
    "function sumleg(a, n, cx)\n",
    "! this horrible thing\n",
    "implicit real*8 (A-H, O-Z)\n",
    "        \n",
    "! n should be an integer since it would define a length of an array\n",
    "integer, intent(in) :: n\n",
    "real*8, intent(in) :: cx\n",
    "\n",
    "! means that we are creating a 1d-dimensional array of length N\n",
    "dimension A(N)\n",
    "\n",
    "print *, 'A(1) ', A(1)\n",
    "print *, 'A(2) ', A(2)\n",
    "\n",
    "! Sums the weigted Legendre polynomials A(I)*Pn(x), x=cos(gamma)\n",
    "! n=0,1,2,3,4\n",
    "\n",
    "DCX=CX*CX\n",
    "DDCX=DCX*DCX\n",
    "\n",
    "VA0=1.D0  ! P0(x)\n",
    "VA1=CX    ! P1(x)\n",
    "VA2=1.5D0*DCX-0.5D0  ! P2(x)\n",
    "VA3=0.5D0*CX*(5.D0*DCX-3.D0)  ! P3(x)\n",
    "VA4=4.375D0*DDCX-3.75D0*DCX+0.375D0   ! P4(x)\n",
    "SUMLEG=A(1)*VA0+A(2)*VA1+A(3)*VA2+A(4)*VA3+A(5)*VA4\n",
    "\n",
    "print *, 'I hope it is returning sumleg', SUMLEG\n",
    "\n",
    "RETURN\n",
    "end function sumleg\n"
   ]
  }
 ],
 "metadata": {
  "kernelspec": {
   "display_name": "Python 3",
   "language": "python",
   "name": "python3"
  },
  "language_info": {
   "codemirror_mode": {
    "name": "ipython",
    "version": 3
   },
   "file_extension": ".py",
   "mimetype": "text/x-python",
   "name": "python",
   "nbconvert_exporter": "python",
   "pygments_lexer": "ipython3",
   "version": "3.5.2"
  }
 },
 "nbformat": 4,
 "nbformat_minor": 2
}

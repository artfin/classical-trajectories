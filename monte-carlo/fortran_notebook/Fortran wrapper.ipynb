{
 "cells": [
  {
   "cell_type": "code",
   "execution_count": 1,
   "metadata": {
    "collapsed": false,
    "deletable": true,
    "editable": true
   },
   "outputs": [
    {
     "name": "stderr",
     "output_type": "stream",
     "text": [
      "/usr/local/lib/python3.5/site-packages/fortranmagic.py:147: UserWarning: get_ipython_cache_dir has moved to the IPython.paths module since IPython 4.0.\n",
      "  self._lib_dir = os.path.join(get_ipython_cache_dir(), 'fortran')\n"
     ]
    },
    {
     "data": {
      "application/javascript": [
       "$.getScript(\"https://raw.github.com/marijnh/CodeMirror/master/mode/fortran/fortran.js\", function () {\n",
       "IPython.config.cell_magic_highlight['magic_fortran'] = {'reg':[/^%%fortran/]};});\n"
      ]
     },
     "metadata": {},
     "output_type": "display_data"
    }
   ],
   "source": [
    "%load_ext fortranmagic"
   ]
  },
  {
   "cell_type": "code",
   "execution_count": 2,
   "metadata": {
    "collapsed": true,
    "deletable": true,
    "editable": true
   },
   "outputs": [],
   "source": [
    "%%fortran\n",
    "subroutine my_function(x,y,z)\n",
    "    real, intent(in) :: x(:), y(:)\n",
    "    real, intent(out) :: z(size(x))\n",
    "    z(:) = sin(x(:) + y(:))\n",
    "end subroutine"
   ]
  },
  {
   "cell_type": "code",
   "execution_count": 7,
   "metadata": {
    "collapsed": false,
    "deletable": true,
    "editable": true
   },
   "outputs": [],
   "source": [
    "import numpy\n",
    "x = numpy.random.normal(size = 100)\n",
    "y = numpy.random.normal(size = 100)\n",
    "z = my_function(x, y)"
   ]
  },
  {
   "cell_type": "code",
   "execution_count": null,
   "metadata": {
    "collapsed": false,
    "deletable": true,
    "editable": true
   },
   "outputs": [],
   "source": []
  },
  {
   "cell_type": "code",
   "execution_count": 20,
   "metadata": {
    "collapsed": true,
    "deletable": true,
    "editable": true
   },
   "outputs": [],
   "source": [
    "%%fortran\n",
    "\n",
    "subroutine f1(x, y, z)\n",
    "    real, intent(in) :: x, y\n",
    "    real, intent(out) :: z\n",
    "            \n",
    "    z = sin(x + y)\n",
    "end subroutine f1"
   ]
  },
  {
   "cell_type": "code",
   "execution_count": 22,
   "metadata": {
    "collapsed": false,
    "deletable": true,
    "editable": true
   },
   "outputs": [
    {
     "data": {
      "text/plain": [
       "9.26574066397734e-05"
      ]
     },
     "execution_count": 22,
     "metadata": {},
     "output_type": "execute_result"
    }
   ],
   "source": [
    "f1(1.0, 2.1415)"
   ]
  },
  {
   "cell_type": "code",
   "execution_count": 25,
   "metadata": {
    "collapsed": false,
    "deletable": true,
    "editable": true
   },
   "outputs": [
    {
     "name": "stdout",
     "output_type": "stream",
     "text": [
      "z = f1(x,y)\n",
      "\n",
      "Wrapper for ``f1``.\n",
      "\n",
      "Parameters\n",
      "----------\n",
      "x : input float\n",
      "y : input float\n",
      "\n",
      "Returns\n",
      "-------\n",
      "z : float\n",
      "\n"
     ]
    }
   ],
   "source": [
    "print(f1.__doc__)"
   ]
  },
  {
   "cell_type": "code",
   "execution_count": 108,
   "metadata": {
    "collapsed": false,
    "deletable": true,
    "editable": true
   },
   "outputs": [
    {
     "name": "stdout",
     "output_type": "stream",
     "text": [
      "\n",
      "Ok. The following fortran objects are ready to use: zadd\n"
     ]
    }
   ],
   "source": [
    "%%fortran --fcompiler gnu95 -v\n",
    "    SUBROUTINE ZADD(A, B, C, N)\n",
    "\n",
    "    DOUBLE COMPLEX A(*)\n",
    "    DOUBLE COMPLEX B(*)\n",
    "    DOUBLE COMPLEX C(*)\n",
    "    INTEGER N\n",
    "    \n",
    "    DO 20 J = 1, N\n",
    "        C(J) = A(J) + B(J)\n",
    "20  CONTINUE\n",
    "    END"
   ]
  },
  {
   "cell_type": "code",
   "execution_count": 123,
   "metadata": {
    "collapsed": false,
    "deletable": true,
    "editable": true
   },
   "outputs": [
    {
     "name": "stdout",
     "output_type": "stream",
     "text": [
      "Running...\n",
      "   /usr/local/opt/python3/bin/python3.5 -m numpy.f2py --fcompiler=gnu95 -m _fortran_magic_7e934ac6ab72d2894e0abcbf8602115a -c /Users/mac/.ipython/fortran/_fortran_magic_7e934ac6ab72d2894e0abcbf8602115a.f90\n",
      "running build\n",
      "running config_cc\n",
      "unifing config_cc, config, build_clib, build_ext, build commands --compiler options\n",
      "running config_fc\n",
      "unifing config_fc, config, build_clib, build_ext, build commands --fcompiler options\n",
      "running build_src\n",
      "build_src\n",
      "building extension \"_fortran_magic_7e934ac6ab72d2894e0abcbf8602115a\" sources\n",
      "f2py options: []\n",
      "f2py:> /var/folders/qr/bp962l4d4msfkd10wx2b41z80000gn/T/tmpkdritshr/src.macosx-10.9-x86_64-3.5/_fortran_magic_7e934ac6ab72d2894e0abcbf8602115amodule.c\n",
      "creating /var/folders/qr/bp962l4d4msfkd10wx2b41z80000gn/T/tmpkdritshr/src.macosx-10.9-x86_64-3.5\n",
      "Reading fortran codes...\n",
      "\tReading file '/Users/mac/.ipython/fortran/_fortran_magic_7e934ac6ab72d2894e0abcbf8602115a.f90' (format:free)\n",
      "Line #22 in /Users/mac/.ipython/fortran/_fortran_magic_7e934ac6ab72d2894e0abcbf8602115a.f90:\"    DATA (RLAM(I),BLAM(I),I=1,10)/         32.27581D0, 2.03171D0,         0.D0, 0.D0,         11.85757D0, 1.79571D0,         0.D0, 0.D0,         -9.41362D0, 2.09529D0,         32.36857D0, 2.12256D0,         -3.40252D0, 1.87293D0,         -1.68672D0, 2.18922D0,         -1.91165D0, 1.96196D0,         1.10092D0, 1.98533D0/\"\n",
      "\tanalyzeline: implied-DO list \"(rlam(i),blam(i),i=1,10)\" is not supported. Skipping.\n",
      "Post-processing...\n",
      "\tBlock: _fortran_magic_7e934ac6ab72d2894e0abcbf8602115a\n",
      "\t\t\tBlock: potdat4\n",
      "{'attrspec': ['dimension(n)']}\n",
      "In: :_fortran_magic_7e934ac6ab72d2894e0abcbf8602115a:/Users/mac/.ipython/fortran/_fortran_magic_7e934ac6ab72d2894e0abcbf8602115a.f90:sumleg\n",
      "vars2fortran: No typespec for argument \"a\".\n",
      "\t\t\tBlock: sumleg\n",
      "Post-processing (stage 2)...\n",
      "Building modules...\n",
      "\tBuilding module \"_fortran_magic_7e934ac6ab72d2894e0abcbf8602115a\"...\n",
      "\t\tConstructing wrapper function \"potdat4\"...\n",
      "\t\t  potdat4()\n",
      "\t\tCreating wrapper for Fortran function \"sumleg\"(\"sumleg\")...\n",
      "\t\tConstructing wrapper function \"sumleg\"...\n",
      "\t\t  sumleg = sumleg(a,cx,[n])\n",
      "\t\tConstructing COMMON block support for \"pothut\"...\n",
      "\t\t  rlam,blam,olam,rdispc,rref,bfac,rdispo,bond,c8o2,isite,c10o,c8o,c6o,c10c2,c8c2,c6c2,c10c,c8c,c6c,site,c10o2,sfac2,sfac0,c6o2,sface,sfacc,nlegc,nlego\n",
      "\tWrote C/API module \"_fortran_magic_7e934ac6ab72d2894e0abcbf8602115a\" to file \"/var/folders/qr/bp962l4d4msfkd10wx2b41z80000gn/T/tmpkdritshr/src.macosx-10.9-x86_64-3.5/_fortran_magic_7e934ac6ab72d2894e0abcbf8602115amodule.c\"\n",
      "\tFortran 77 wrappers are saved to \"/var/folders/qr/bp962l4d4msfkd10wx2b41z80000gn/T/tmpkdritshr/src.macosx-10.9-x86_64-3.5/_fortran_magic_7e934ac6ab72d2894e0abcbf8602115a-f2pywrappers.f\"\n",
      "  adding '/var/folders/qr/bp962l4d4msfkd10wx2b41z80000gn/T/tmpkdritshr/src.macosx-10.9-x86_64-3.5/fortranobject.c' to sources.\n",
      "  adding '/var/folders/qr/bp962l4d4msfkd10wx2b41z80000gn/T/tmpkdritshr/src.macosx-10.9-x86_64-3.5' to include_dirs.\n",
      "copying /usr/local/lib/python3.5/site-packages/numpy/f2py/src/fortranobject.c -> /var/folders/qr/bp962l4d4msfkd10wx2b41z80000gn/T/tmpkdritshr/src.macosx-10.9-x86_64-3.5\n",
      "copying /usr/local/lib/python3.5/site-packages/numpy/f2py/src/fortranobject.h -> /var/folders/qr/bp962l4d4msfkd10wx2b41z80000gn/T/tmpkdritshr/src.macosx-10.9-x86_64-3.5\n",
      "  adding '/var/folders/qr/bp962l4d4msfkd10wx2b41z80000gn/T/tmpkdritshr/src.macosx-10.9-x86_64-3.5/_fortran_magic_7e934ac6ab72d2894e0abcbf8602115a-f2pywrappers.f' to sources.\n",
      "build_src: building npy-pkg config files\n",
      "running build_ext\n",
      "customize UnixCCompiler\n",
      "customize UnixCCompiler using build_ext\n",
      "customize Gnu95FCompiler\n",
      "Found executable /usr/local/bin/gfortran\n",
      "customize Gnu95FCompiler using build_ext\n",
      "building '_fortran_magic_7e934ac6ab72d2894e0abcbf8602115a' extension\n",
      "compiling C sources\n",
      "C compiler: clang -Wno-unused-result -Wsign-compare -Wunreachable-code -fno-common -dynamic -DNDEBUG -g -fwrapv -O3 -Wall -Wstrict-prototypes\n",
      "\n",
      "creating /var/folders/qr/bp962l4d4msfkd10wx2b41z80000gn/T/tmpkdritshr/var\n",
      "creating /var/folders/qr/bp962l4d4msfkd10wx2b41z80000gn/T/tmpkdritshr/var/folders\n",
      "creating /var/folders/qr/bp962l4d4msfkd10wx2b41z80000gn/T/tmpkdritshr/var/folders/qr\n",
      "creating /var/folders/qr/bp962l4d4msfkd10wx2b41z80000gn/T/tmpkdritshr/var/folders/qr/bp962l4d4msfkd10wx2b41z80000gn\n",
      "creating /var/folders/qr/bp962l4d4msfkd10wx2b41z80000gn/T/tmpkdritshr/var/folders/qr/bp962l4d4msfkd10wx2b41z80000gn/T\n",
      "creating /var/folders/qr/bp962l4d4msfkd10wx2b41z80000gn/T/tmpkdritshr/var/folders/qr/bp962l4d4msfkd10wx2b41z80000gn/T/tmpkdritshr\n",
      "creating /var/folders/qr/bp962l4d4msfkd10wx2b41z80000gn/T/tmpkdritshr/var/folders/qr/bp962l4d4msfkd10wx2b41z80000gn/T/tmpkdritshr/src.macosx-10.9-x86_64-3.5\n",
      "compile options: '-I/var/folders/qr/bp962l4d4msfkd10wx2b41z80000gn/T/tmpkdritshr/src.macosx-10.9-x86_64-3.5 -I/usr/local/lib/python3.5/site-packages/numpy/core/include -I/usr/local/include -I/usr/local/opt/openssl/include -I/usr/local/opt/sqlite/include -I/usr/local/Cellar/python3/3.5.2_3/Frameworks/Python.framework/Versions/3.5/include/python3.5m -c'\n",
      "clang: /var/folders/qr/bp962l4d4msfkd10wx2b41z80000gn/T/tmpkdritshr/src.macosx-10.9-x86_64-3.5/_fortran_magic_7e934ac6ab72d2894e0abcbf8602115amodule.c\n",
      "In file included from /var/folders/qr/bp962l4d4msfkd10wx2b41z80000gn/T/tmpkdritshr/src.macosx-10.9-x86_64-3.5/_fortran_magic_7e934ac6ab72d2894e0abcbf8602115amodule.c:19:\n",
      "In file included from /var/folders/qr/bp962l4d4msfkd10wx2b41z80000gn/T/tmpkdritshr/src.macosx-10.9-x86_64-3.5/fortranobject.h:13:\n",
      "In file included from /usr/local/lib/python3.5/site-packages/numpy/core/include/numpy/arrayobject.h:4:\n",
      "In file included from /usr/local/lib/python3.5/site-packages/numpy/core/include/numpy/ndarrayobject.h:18:\n",
      "In file included from /usr/local/lib/python3.5/site-packages/numpy/core/include/numpy/ndarraytypes.h:1788:\n",
      "/usr/local/lib/python3.5/site-packages/numpy/core/include/numpy/npy_1_7_deprecated_api.h:15:2: warning: \"Using deprecated NumPy API, disable it by \"          \"#defining NPY_NO_DEPRECATED_API NPY_1_7_API_VERSION\" [-W#warnings]\n",
      "#warning \"Using deprecated NumPy API, disable it by \" \\\n",
      " ^\n",
      "/var/folders/qr/bp962l4d4msfkd10wx2b41z80000gn/T/tmpkdritshr/src.macosx-10.9-x86_64-3.5/_fortran_magic_7e934ac6ab72d2894e0abcbf8602115amodule.c:147:12: warning: unused function 'f2py_size' [-Wunused-function]\n",
      "static int f2py_size(PyArrayObject* var, ...)\n",
      "           ^\n",
      "2 warnings generated.\n",
      "clang: /var/folders/qr/bp962l4d4msfkd10wx2b41z80000gn/T/tmpkdritshr/src.macosx-10.9-x86_64-3.5/fortranobject.c\n",
      "In file included from /var/folders/qr/bp962l4d4msfkd10wx2b41z80000gn/T/tmpkdritshr/src.macosx-10.9-x86_64-3.5/fortranobject.c:2:\n",
      "In file included from /var/folders/qr/bp962l4d4msfkd10wx2b41z80000gn/T/tmpkdritshr/src.macosx-10.9-x86_64-3.5/fortranobject.h:13:\n",
      "In file included from /usr/local/lib/python3.5/site-packages/numpy/core/include/numpy/arrayobject.h:4:\n",
      "In file included from /usr/local/lib/python3.5/site-packages/numpy/core/include/numpy/ndarrayobject.h:18:\n",
      "In file included from /usr/local/lib/python3.5/site-packages/numpy/core/include/numpy/ndarraytypes.h:1788:\n",
      "/usr/local/lib/python3.5/site-packages/numpy/core/include/numpy/npy_1_7_deprecated_api.h:15:2: warning: \"Using deprecated NumPy API, disable it by \"          \"#defining NPY_NO_DEPRECATED_API NPY_1_7_API_VERSION\" [-W#warnings]\n",
      "#warning \"Using deprecated NumPy API, disable it by \" \\\n",
      " ^\n",
      "/var/folders/qr/bp962l4d4msfkd10wx2b41z80000gn/T/tmpkdritshr/src.macosx-10.9-x86_64-3.5/fortranobject.c:139:18: warning: comparison of integers of different signs: 'Py_ssize_t' (aka 'long') and 'unsigned long' [-Wsign-compare]\n",
      "        if (size < sizeof(notalloc)) {\n",
      "            ~~~~ ^ ~~~~~~~~~~~~~~~~\n",
      "2 warnings generated.\n",
      "compiling Fortran sources\n",
      "Fortran f77 compiler: /usr/local/bin/gfortran -Wall -g -ffixed-form -fno-second-underscore -fPIC -O3 -funroll-loops\n",
      "Fortran f90 compiler: /usr/local/bin/gfortran -Wall -g -fno-second-underscore -fPIC -O3 -funroll-loops\n",
      "Fortran fix compiler: /usr/local/bin/gfortran -Wall -g -ffixed-form -fno-second-underscore -Wall -g -fno-second-underscore -fPIC -O3 -funroll-loops\n",
      "creating /var/folders/qr/bp962l4d4msfkd10wx2b41z80000gn/T/tmpkdritshr/Users\n",
      "creating /var/folders/qr/bp962l4d4msfkd10wx2b41z80000gn/T/tmpkdritshr/Users/mac\n",
      "creating /var/folders/qr/bp962l4d4msfkd10wx2b41z80000gn/T/tmpkdritshr/Users/mac/.ipython\n",
      "creating /var/folders/qr/bp962l4d4msfkd10wx2b41z80000gn/T/tmpkdritshr/Users/mac/.ipython/fortran\n",
      "compile options: '-I/var/folders/qr/bp962l4d4msfkd10wx2b41z80000gn/T/tmpkdritshr/src.macosx-10.9-x86_64-3.5 -I/usr/local/lib/python3.5/site-packages/numpy/core/include -I/usr/local/include -I/usr/local/opt/openssl/include -I/usr/local/opt/sqlite/include -I/usr/local/Cellar/python3/3.5.2_3/Frameworks/Python.framework/Versions/3.5/include/python3.5m -c'\n",
      "gfortran:f90: /Users/mac/.ipython/fortran/_fortran_magic_7e934ac6ab72d2894e0abcbf8602115a.f90\n",
      "/Users/mac/.ipython/fortran/_fortran_magic_7e934ac6ab72d2894e0abcbf8602115a.f90:55:26:\n",
      "\n",
      "       IF(ISITE.GT.0) THEN  ! Split repulsion potential\n",
      "                          1\n",
      "Warning: Nonconforming tab character at (1) [-Wtabs]\n",
      "/Users/mac/.ipython/fortran/_fortran_magic_7e934ac6ab72d2894e0abcbf8602115a.f90:4:22:\n",
      "\n",
      "         COMMON/POTHUT/ RLAM(20),BLAM(20),OLAM(20),RDISPC, &\n",
      "                      1\n",
      "Warning: Padding of 4 bytes required before 'c10o' in COMMON 'pothut' at (1); reorder elements or use -fno-align-commons\n",
      "gfortran:f77: /var/folders/qr/bp962l4d4msfkd10wx2b41z80000gn/T/tmpkdritshr/src.macosx-10.9-x86_64-3.5/_fortran_magic_7e934ac6ab72d2894e0abcbf8602115a-f2pywrappers.f\n",
      "/var/folders/qr/bp962l4d4msfkd10wx2b41z80000gn/T/tmpkdritshr/src.macosx-10.9-x86_64-3.5/_fortran_magic_7e934ac6ab72d2894e0abcbf8602115a-f2pywrappers.f:45:21:\n",
      "\n",
      "       common /pothut/ rlam,blam,olam,rdispc,rref,bfac,rdispo,bond,\n",
      "                     1\n",
      "Warning: Padding of 4 bytes required before 'c10o' in COMMON 'pothut' at (1); reorder elements or use -fno-align-commons\n",
      "/usr/local/bin/gfortran -Wall -g -Wall -g -undefined dynamic_lookup -bundle /var/folders/qr/bp962l4d4msfkd10wx2b41z80000gn/T/tmpkdritshr/var/folders/qr/bp962l4d4msfkd10wx2b41z80000gn/T/tmpkdritshr/src.macosx-10.9-x86_64-3.5/_fortran_magic_7e934ac6ab72d2894e0abcbf8602115amodule.o /var/folders/qr/bp962l4d4msfkd10wx2b41z80000gn/T/tmpkdritshr/var/folders/qr/bp962l4d4msfkd10wx2b41z80000gn/T/tmpkdritshr/src.macosx-10.9-x86_64-3.5/fortranobject.o /var/folders/qr/bp962l4d4msfkd10wx2b41z80000gn/T/tmpkdritshr/Users/mac/.ipython/fortran/_fortran_magic_7e934ac6ab72d2894e0abcbf8602115a.o /var/folders/qr/bp962l4d4msfkd10wx2b41z80000gn/T/tmpkdritshr/var/folders/qr/bp962l4d4msfkd10wx2b41z80000gn/T/tmpkdritshr/src.macosx-10.9-x86_64-3.5/_fortran_magic_7e934ac6ab72d2894e0abcbf8602115a-f2pywrappers.o -L/usr/local/Cellar/gcc/6.3.0_1/lib/gcc/6/gcc/x86_64-apple-darwin13.4.0/6.3.0 -L/usr/local/lib -L/usr/local/opt/openssl/lib -L/usr/local/opt/sqlite/lib -lgfortran -o ./_fortran_magic_7e934ac6ab72d2894e0abcbf8602115a.cpython-35m-darwin.so\n",
      "Removing build directory /var/folders/qr/bp962l4d4msfkd10wx2b41z80000gn/T/tmpkdritshr\n",
      "\n",
      "Ok. The following fortran objects are ready to use: potdat4, sumleg, pothut\n"
     ]
    }
   ],
   "source": [
    "%%fortran --fcompiler gnu95 -vvv\n",
    "\n",
    "    SUBROUTINE POTDAT4\n",
    "    IMPLICIT REAL*8 (A-H,O-Z)\n",
    "        COMMON/POTHUT/ RLAM(20),BLAM(20),OLAM(20),RDISPC, &\n",
    "            RREF,BFAC,RDISPO,BOND,C8O2,ISITE,C10O,C8O,C6O,C10C2, &\n",
    "            C8C2, C6C2,C10C,C8C,C6C,SITE,C10O2,SFAC2,SFAC0,C6O2, &\n",
    "            SFACE,SFACC, NLEGC,NLEGO\n",
    "            \n",
    "    DATA ISITE,SFAC0,SFAC2,BFAC/1, 4.6454D0, 0.6288D0, 1.D0/\n",
    "    DATA NLEGC,NLEGO,RREF,BOND/5, 5, 7.D0, 2.196D0/\n",
    "    DATA (RLAM(I),BLAM(I),I=1,10)/ &\n",
    "        32.27581D0, 2.03171D0, &\n",
    "        0.D0, 0.D0, &\n",
    "        11.85757D0, 1.79571D0, &\n",
    "        0.D0, 0.D0, &\n",
    "        -9.41362D0, 2.09529D0, &\n",
    "        32.36857D0, 2.12256D0, &\n",
    "        -3.40252D0, 1.87293D0, &\n",
    "        -1.68672D0, 2.18922D0, &\n",
    "        -1.91165D0, 1.96196D0, &\n",
    "        1.10092D0, 1.98533D0/\n",
    "    \n",
    "    DATA C6,C6AFAC/101.D0, 0.270D0/\n",
    "    DATA SITE,RDISP,FRACC/1.5874D0, -1.D0, 0.000000001D0/\n",
    "    DATA C8RAT,C8AFAC/29.21D0, 999.D0/\n",
    "    \n",
    "    DO 100 I=1,NLEGC+NLEGO\n",
    "    100 RLAM(I)=RLAM(I)*1.D-6\n",
    "    \n",
    "    C6C=FRACC*C6\n",
    "    C6O=0.5D0*(C6-C6C)\n",
    "    FRACC2=FRACC\n",
    "    C62=C6AFAC*C6\n",
    "    C6C2=FRACC2*C62\n",
    "    C6O2=0.5D0*(C62-C6C2)\n",
    "    C10RAT=49.D0/40.D0\n",
    "    C8RATH=19.1412D0\n",
    "    C8RATC=C8RAT\n",
    "    C8C=C8RATC*C6C\n",
    "    C10C=C10RAT*C8RATC*C8C\n",
    "    C8C2=C8RATC*C6C2\n",
    "    C10C2=C10RAT*C8RATC*C8C2\n",
    "    RDISPC=RDISP\n",
    "    IF(RDISP.LT.0.D0) RDISPC=10.01D0*DSQRT(C8RATC/C8RATH)\n",
    "    C8RATO=C8RAT\n",
    "    C8O=C8RATO*C6O\n",
    "    C10O=C10RAT*C8RATO*C8O\n",
    "    C8O2=C8RATO*C6O2\n",
    "    C8=C8C+C8O+C8O+SITE**2*(10.D0*C6O+2.D0*C6O2)\n",
    "    C10O2=C10RAT*C8RATO*C8O2\n",
    "    RDISPO=RDISP\n",
    "    \n",
    "    IF(RDISP.LT.0.D0) RDISPO=10.01D0*DSQRT(C8RATO/C8RATH)\n",
    "      C82=C8C+C8O+C8O+SITE**2*(32.D0*C6O+(88.D0/7.D0)*C6O2)\n",
    "      IF(ISITE.GT.0) THEN\t ! Split repulsion potential\n",
    "        SFACC=SFAC0+0.5D0*SFAC2\n",
    "        SFACE=SFAC0-0.5D0*SFAC2\n",
    "    ENDIF\n",
    "    \n",
    "    RETURN\n",
    "    END\n",
    "    \n",
    "function sumleg(a, n, cx)\n",
    "! this horrible thing\n",
    "implicit real*8 (A-H, O-Z)\n",
    "        \n",
    "! n should be an integer since it would define a length of an array\n",
    "integer, intent(in) :: n\n",
    "real*8, intent(in) :: cx\n",
    "\n",
    "! means that we are creating a 1d-dimensional array of length N\n",
    "dimension A(N)\n",
    "\n",
    "print *, 'A(1) ', A(1)\n",
    "print *, 'A(2) ', A(2)\n",
    "\n",
    "! Sums the weigted Legendre polynomials A(I)*Pn(x), x=cos(gamma)\n",
    "! n=0,1,2,3,4\n",
    "\n",
    "DCX=CX*CX\n",
    "DDCX=DCX*DCX\n",
    "\n",
    "VA0=1.D0  ! P0(x)\n",
    "VA1=CX    ! P1(x)\n",
    "VA2=1.5D0*DCX-0.5D0  ! P2(x)\n",
    "VA3=0.5D0*CX*(5.D0*DCX-3.D0)  ! P3(x)\n",
    "VA4=4.375D0*DDCX-3.75D0*DCX+0.375D0   ! P4(x)\n",
    "SUMLEG=A(1)*VA0+A(2)*VA1+A(3)*VA2+A(4)*VA3+A(5)*VA4\n",
    "\n",
    "print *, 'I hope it is returning sumleg', SUMLEG\n",
    "\n",
    "RETURN\n",
    "end function sumleg\n",
    "\n"
   ]
  },
  {
   "cell_type": "code",
   "execution_count": 128,
   "metadata": {
    "collapsed": false
   },
   "outputs": [
    {
     "name": "stdout",
     "output_type": "stream",
     "text": [
      "Running...\n",
      "   /usr/local/opt/python3/bin/python3.5 -m numpy.f2py --fcompiler=gnu95 -m _fortran_magic_39e20a360b5d942f4357f74b1a2b2353 -c /Users/mac/.ipython/fortran/_fortran_magic_39e20a360b5d942f4357f74b1a2b2353.f90\n",
      "\n",
      "Ok. The following fortran objects are ready to use: pothut, extpot\n"
     ]
    }
   ],
   "source": [
    "%%fortran --fcompiler gnu95 -vv\n",
    "\n",
    "function extpot(r,costh)\n",
    "! very bad thing that forces compiler to initialize a variable when some unknown name is came upon\n",
    "implicit real*8 (A-H,O-Z)\n",
    "\n",
    "! initialize input r variable (intent(in) means that variable cannot be changed inside the function)\n",
    "real*8, intent(in) :: r \n",
    "real*8, intent(in) :: costh\n",
    "\n",
    "! pulling variables from COMMON block (initialized in the potdat4 function)\n",
    "COMMON/POTHUT/ RLAM(20),BLAM(20),OLAM(20),RDISPC, &\n",
    "            RREF,BFAC,RDISPO,BOND,C8O2,ISITE,C10O,C8O,C6O,C10C2, &\n",
    "            C8C2, C6C2,C10C,C8C,C6C,SITE,C10O2,SFAC2,SFAC0,C6O2, &\n",
    "            SFACE,SFACC, NLEGC,NLEGO\n",
    "\n",
    "! I suspect that it means that AUE = value * D0 ?\n",
    "DATA AUE /219474.6354D0/\n",
    "! for some reason print streams output to console instead of notebook \n",
    "! print *, 'The AUE is ', AUE\n",
    "\n",
    "DATA AUR /0.52917706D0/\n",
    "\n",
    "! why even do this?\n",
    "RR=R ! /AUR  ! Angstrom -> a.u.\n",
    "\n",
    "! calculating split repulsion potential\n",
    "IF(ISITE.GT.0) THEN  \n",
    "    T=-BOND/RR\n",
    "    TEMP=DSQRT(1.D0+T*(T+COSTH+COSTH))\n",
    "    RO1=RR*TEMP\n",
    "    COSO1=(COSTH+T)/TEMP\n",
    "\n",
    "    T=+BOND/RR\n",
    "    TEMP=DSQRT(1.D0+T*(T+COSTH+COSTH))\n",
    "    RO2=RR*TEMP\n",
    "    COSO2=(COSTH+T)/TEMP\n",
    "\n",
    "    DO 6 I=1,NLEGC\n",
    "    6   OLAM(I)=RLAM(I)*DEXP(BFAC*BLAM(I)*(RREF-RR))\n",
    "    \n",
    "    print *, \"Passing to sumleg OLAM\", OLAM\n",
    "    print *, \"Passing to sumleg NLEFC\", NLEGC\n",
    "    print *, \"Passing to sumleg COSTH\", COSTH\n",
    "    \n",
    "    OLAPC=SUMLEG(OLAM,NLEGC,COSTH)\n",
    "    DO 7 I=1,NLEGO\n",
    "    7   OLAM(I)=RLAM(NLEGC+I)*DEXP(BFAC*BLAM(NLEGC+I)*(RREF-RO1))\n",
    "    OLAPO1=SUMLEG(OLAM,NLEGO,COSO1)\n",
    "    DO 8 I=1,NLEGO\n",
    "    8   OLAM(I)=RLAM(NLEGC+I)*DEXP(BFAC*BLAM(NLEGC+I)*(RREF-RO2))\n",
    "    OLAPO2=SUMLEG(OLAM,NLEGO,-COSO2)\n",
    "    V=SFACC*OLAPC+SFACE*(OLAPO1+OLAPO2)\n",
    "ENDIF\n",
    "\n",
    "T=-SITE/RR\n",
    "TEMP=DSQRT(1.D0+T*(T+COSTH+COSTH))\n",
    "RO1=RR*TEMP\n",
    "COSO1=(COSTH+T)/TEMP\n",
    "\n",
    "T=+SITE/RR\n",
    "TEMP=DSQRT(1.D0+T*(T+COSTH+COSTH))\n",
    "RO2=RR*TEMP\n",
    "COSO2=(COSTH+T)/TEMP\n",
    "\n",
    "R2=1.D0/(RR*RR)\n",
    "DISP=-(C6C+(C8C+C10C*R2)*R2 &\n",
    "  +(C6C2+(C8C2+C10C2*R2)*R2)*(1.5D0*COSTH*COSTH-0.5D0))*R2**3\n",
    "\n",
    "IF(RR.GT.RDISPC) THEN\n",
    "    V=V+DISP\n",
    "ELSE\n",
    "    V=V+DISP*DEXP(-0.4D0*(RDISPC/RR-1.D0)**2)\n",
    "ENDIF\n",
    "\n",
    "R2=1.D0/(RO1*RO1)\n",
    "DISP=-(C6O+(C8O+C10O*R2)*R2 &\n",
    "   +(C6O2+(C8O2+C10O2*R2)*R2)*(1.5D0*COSO1*COSO1-0.5D0))*R2**3\n",
    "\n",
    "IF(RO1.GT.RDISPO) THEN\n",
    "    V=V+DISP\n",
    "ELSE\n",
    "    V=V+DISP*DEXP(-0.4D0*(RDISPO/RO1-1.D0)**2)\n",
    "ENDIF\n",
    "\n",
    "R2=1.D0/(RO2*RO2)\n",
    "DISP=-(C6O+(C8O+C10O*R2)*R2 &\n",
    "    +(C6O2+(C8O2+C10O2*R2)*R2)*(1.5D0*COSO2*COSO2-0.5D0))*R2**3\n",
    "\n",
    "IF(RO2.GT.RDISPO) THEN\n",
    "    V=V+DISP\n",
    "ELSE\n",
    "    V=V+DISP*DEXP(-0.4D0*(RDISPO/RO2-1.D0)**2)\n",
    "ENDIF\n",
    "\n",
    "EXTPOT = V  ! *AUE ! to cm-1\n",
    "            \n",
    "end function extpot"
   ]
  },
  {
   "cell_type": "code",
   "execution_count": 130,
   "metadata": {
    "collapsed": false
   },
   "outputs": [
    {
     "data": {
      "text/plain": [
       "144.0"
      ]
     },
     "execution_count": 130,
     "metadata": {},
     "output_type": "execute_result"
    }
   ],
   "source": [
    "extpot(12., 0.0)"
   ]
  },
  {
   "cell_type": "code",
   "execution_count": 131,
   "metadata": {
    "collapsed": false
   },
   "outputs": [
    {
     "data": {
      "text/plain": [
       "-2.6867786204444663e+154"
      ]
     },
     "execution_count": 131,
     "metadata": {},
     "output_type": "execute_result"
    }
   ],
   "source": [
    "sumleg(3, [1, 2], 1)"
   ]
  },
  {
   "cell_type": "code",
   "execution_count": null,
   "metadata": {
    "collapsed": true
   },
   "outputs": [],
   "source": []
  }
 ],
 "metadata": {
  "kernelspec": {
   "display_name": "Python 3",
   "language": "python",
   "name": "python3"
  },
  "language_info": {
   "codemirror_mode": {
    "name": "ipython",
    "version": 3
   },
   "file_extension": ".py",
   "mimetype": "text/x-python",
   "name": "python",
   "nbconvert_exporter": "python",
   "pygments_lexer": "ipython3",
   "version": "3.5.2"
  }
 },
 "nbformat": 4,
 "nbformat_minor": 2
}

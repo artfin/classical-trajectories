{
 "cells": [
  {
   "cell_type": "code",
   "execution_count": 15,
   "metadata": {},
   "outputs": [
    {
     "name": "stdout",
     "output_type": "stream",
     "text": [
      "Warning: Cannot change to a different GUI toolkit: notebook. Using tk instead.\n"
     ]
    }
   ],
   "source": [
    "%matplotlib notebook\n",
    "\n",
    "import matplotlib.pyplot as plt\n",
    "\n",
    "def read_file( filename, n ):\n",
    "    with open(filename, mode = 'r') as inputfile:\n",
    "        lines = inputfile.readlines()\n",
    "    \n",
    "    lists = [ [] for _ in range(n) ]\n",
    "    for line in lines:\n",
    "        data = line.split()\n",
    "        \n",
    "        for i in range(n):\n",
    "            lists[i].append(data[i])\n",
    "            \n",
    "    return lists\n",
    "\n",
    "def plot_spectrum( lfreqs, lints ):\n",
    "    fig = plt.figure()\n",
    "    for freqs, ints in zip(lfreqs, lints): \n",
    "        plt.plot(freqs, ints, lw = 2.0)\n",
    "    \n",
    "    plt.grid(linestyle = ':', alpha = 0.7)"
   ]
  },
  {
   "cell_type": "code",
   "execution_count": 16,
   "metadata": {},
   "outputs": [],
   "source": [
    "freq100, intensity100 = read_file('100/spectrum_classical.txt', 2)\n",
    "freq500, intensity500 = read_file('500/spectrum_classical.txt', 2)\n",
    "freq1000, intensity1000 = read_file('1000/spectrum_classical.txt', 2)\n",
    "lfreqs = [freq100, freq500, freq1000]\n",
    "lints = [intensity100, intensity500, intensity1000]\n",
    "plot_spectrum(lfreqs, lints)"
   ]
  }
 ],
 "metadata": {
  "kernelspec": {
   "display_name": "Python 2",
   "language": "python",
   "name": "python2"
  },
  "language_info": {
   "codemirror_mode": {
    "name": "ipython",
    "version": 2
   },
   "file_extension": ".py",
   "mimetype": "text/x-python",
   "name": "python",
   "nbconvert_exporter": "python",
   "pygments_lexer": "ipython2",
   "version": "2.7.12"
  }
 },
 "nbformat": 4,
 "nbformat_minor": 2
}

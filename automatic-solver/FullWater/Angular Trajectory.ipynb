{
 "cells": [
  {
   "cell_type": "code",
   "execution_count": 5,
   "metadata": {
    "collapsed": false,
    "deletable": true,
    "editable": true
   },
   "outputs": [
    {
     "name": "stdout",
     "output_type": "stream",
     "text": [
      "J = 23\n"
     ]
    }
   ],
   "source": [
    "import matplotlib.pyplot as plt\n",
    "from mpl_toolkits.mplot3d import Axes3D\n",
    "import plotly.plotly as py\n",
    "import numpy as np\n",
    "import json\n",
    "\n",
    "for J in range(23, 24):\n",
    "    filename = 'angular_trajectory_J=' + str(J) + '.dat'\n",
    "    \n",
    "    # loading jx,jy,jz values\n",
    "    with open(filename, mode = 'r') as inputfile:\n",
    "        data = json.load(inputfile)\n",
    "\n",
    "    theta = np.linspace(0, 2*np.pi, 100)\n",
    "    phi = np.linspace(0, np.pi, 100)\n",
    "    \n",
    "    x = J * np.outer(np.cos(theta), np.sin(phi))\n",
    "    y = J * np.outer(np.sin(theta), np.sin(phi))\n",
    "    z = J * np.outer(np.ones(100), np.cos(phi))\n",
    "\n",
    "    fig = plt.figure(figsize=(12,12))\n",
    "    ax = fig.gca(projection = '3d')\n",
    "    ax.plot_surface(x,y,z, alpha = 0.1)\n",
    "    ax.plot(data['jx'], data['jy'], data['jz'], color = 'g', linewidth = 1.)\n",
    "    plt.draw()\n",
    "    #plt.show()\n",
    "    \n",
    "    # saving trajectory\n",
    "    imagename = 'j=' + str(J) + '.png'\n",
    "    plt.savefig(imagename)\n",
    "    \n",
    "    print('J = ' + str(J))"
   ]
  },
  {
   "cell_type": "code",
   "execution_count": 4,
   "metadata": {
    "collapsed": false,
    "deletable": true,
    "editable": true
   },
   "outputs": [
    {
     "name": "stdout",
     "output_type": "stream",
     "text": [
      "Once deleted, variables cannot be recovered. Proceed (y/[n])? y\n"
     ]
    }
   ],
   "source": [
    "%reset"
   ]
  },
  {
   "cell_type": "code",
   "execution_count": null,
   "metadata": {
    "collapsed": false,
    "deletable": true,
    "editable": true
   },
   "outputs": [],
   "source": []
  },
  {
   "cell_type": "code",
   "execution_count": null,
   "metadata": {
    "collapsed": true,
    "deletable": true,
    "editable": true
   },
   "outputs": [],
   "source": []
  }
 ],
 "metadata": {
  "kernelspec": {
   "display_name": "VPython",
   "language": "python",
   "name": "vpython"
  },
  "language_info": {
   "codemirror_mode": {
    "name": "ipython",
    "version": 2
   },
   "file_extension": ".py",
   "mimetype": "text/x-python",
   "name": "python",
   "nbconvert_exporter": "python",
   "pygments_lexer": "ipython2",
   "version": "2.7.13"
  }
 },
 "nbformat": 4,
 "nbformat_minor": 2
}

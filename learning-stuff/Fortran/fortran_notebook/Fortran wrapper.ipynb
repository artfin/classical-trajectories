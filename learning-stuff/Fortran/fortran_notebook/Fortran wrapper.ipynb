{
 "cells": [
  {
   "cell_type": "code",
   "execution_count": 2,
   "metadata": {
    "collapsed": false,
    "deletable": true,
    "editable": true
   },
   "outputs": [
    {
     "name": "stderr",
     "output_type": "stream",
     "text": [
      "/usr/local/lib/python3.5/site-packages/fortranmagic.py:147: UserWarning: get_ipython_cache_dir has moved to the IPython.paths module since IPython 4.0.\n",
      "  self._lib_dir = os.path.join(get_ipython_cache_dir(), 'fortran')\n"
     ]
    },
    {
     "data": {
      "application/javascript": [
       "$.getScript(\"https://raw.github.com/marijnh/CodeMirror/master/mode/fortran/fortran.js\", function () {\n",
       "IPython.config.cell_magic_highlight['magic_fortran'] = {'reg':[/^%%fortran/]};});\n"
      ]
     },
     "metadata": {},
     "output_type": "display_data"
    }
   ],
   "source": [
    "%load_ext fortranmagic"
   ]
  },
  {
   "cell_type": "code",
   "execution_count": 2,
   "metadata": {
    "collapsed": true,
    "deletable": true,
    "editable": true
   },
   "outputs": [],
   "source": [
    "%%fortran\n",
    "subroutine my_function(x,y,z)\n",
    "    real, intent(in) :: x(:), y(:)\n",
    "    real, intent(out) :: z(size(x))\n",
    "    z(:) = sin(x(:) + y(:))\n",
    "end subroutine"
   ]
  },
  {
   "cell_type": "code",
   "execution_count": 7,
   "metadata": {
    "collapsed": false,
    "deletable": true,
    "editable": true
   },
   "outputs": [],
   "source": [
    "import numpy\n",
    "x = numpy.random.normal(size = 100)\n",
    "y = numpy.random.normal(size = 100)\n",
    "z = my_function(x, y)"
   ]
  },
  {
   "cell_type": "code",
   "execution_count": null,
   "metadata": {
    "collapsed": false,
    "deletable": true,
    "editable": true
   },
   "outputs": [],
   "source": []
  },
  {
   "cell_type": "code",
   "execution_count": 20,
   "metadata": {
    "collapsed": true,
    "deletable": true,
    "editable": true
   },
   "outputs": [],
   "source": [
    "%%fortran\n",
    "\n",
    "subroutine f1(x, y, z)\n",
    "    real, intent(in) :: x, y\n",
    "    real, intent(out) :: z\n",
    "            \n",
    "    z = sin(x + y)\n",
    "end subroutine f1"
   ]
  },
  {
   "cell_type": "code",
   "execution_count": 22,
   "metadata": {
    "collapsed": false,
    "deletable": true,
    "editable": true
   },
   "outputs": [
    {
     "data": {
      "text/plain": [
       "9.26574066397734e-05"
      ]
     },
     "execution_count": 22,
     "metadata": {},
     "output_type": "execute_result"
    }
   ],
   "source": [
    "f1(1.0, 2.1415)"
   ]
  },
  {
   "cell_type": "code",
   "execution_count": 25,
   "metadata": {
    "collapsed": false,
    "deletable": true,
    "editable": true
   },
   "outputs": [
    {
     "name": "stdout",
     "output_type": "stream",
     "text": [
      "z = f1(x,y)\n",
      "\n",
      "Wrapper for ``f1``.\n",
      "\n",
      "Parameters\n",
      "----------\n",
      "x : input float\n",
      "y : input float\n",
      "\n",
      "Returns\n",
      "-------\n",
      "z : float\n",
      "\n"
     ]
    }
   ],
   "source": [
    "print(f1.__doc__)"
   ]
  },
  {
   "cell_type": "code",
   "execution_count": 108,
   "metadata": {
    "collapsed": false,
    "deletable": true,
    "editable": true
   },
   "outputs": [
    {
     "name": "stdout",
     "output_type": "stream",
     "text": [
      "\n",
      "Ok. The following fortran objects are ready to use: zadd\n"
     ]
    }
   ],
   "source": [
    "%%fortran --fcompiler gnu95 -v\n",
    "    SUBROUTINE ZADD(A, B, C, N)\n",
    "\n",
    "    DOUBLE COMPLEX A(*)\n",
    "    DOUBLE COMPLEX B(*)\n",
    "    DOUBLE COMPLEX C(*)\n",
    "    INTEGER N\n",
    "    \n",
    "    DO 20 J = 1, N\n",
    "        C(J) = A(J) + B(J)\n",
    "20  CONTINUE\n",
    "    END"
   ]
  },
  {
   "cell_type": "code",
   "execution_count": 10,
   "metadata": {
    "collapsed": false,
    "deletable": true,
    "editable": true
   },
   "outputs": [
    {
     "name": "stdout",
     "output_type": "stream",
     "text": [
      "\n",
      "Ok. The following fortran objects are ready to use: potdat4, sumleg, pothut\n"
     ]
    }
   ],
   "source": [
    "%%fortran --fcompiler gnu95 -v\n",
    "\n",
    "    SUBROUTINE POTDAT4\n",
    "    IMPLICIT REAL*8 (A-H,O-Z)\n",
    "        COMMON/POTHUT/ RLAM(20),BLAM(20),OLAM(20),RDISPC, &\n",
    "            RREF,BFAC,RDISPO,BOND,C8O2,ISITE,C10O,C8O,C6O,C10C2, &\n",
    "            C8C2, C6C2,C10C,C8C,C6C,SITE,C10O2,SFAC2,SFAC0,C6O2, &\n",
    "            SFACE,SFACC, NLEGC,NLEGO\n",
    "            \n",
    "    print *, \"HEY\"\n",
    "            \n",
    "    DATA ISITE,SFAC0,SFAC2,BFAC/1, 4.6454D0, 0.6288D0, 1.D0/\n",
    "    DATA NLEGC,NLEGO,RREF,BOND/5, 5, 7.D0, 2.196D0/\n",
    "    DATA (RLAM(I),BLAM(I),I=1,10)/ &\n",
    "        32.27581D0, 2.03171D0, &\n",
    "        0.D0, 0.D0, &\n",
    "        11.85757D0, 1.79571D0, &\n",
    "        0.D0, 0.D0, &\n",
    "        -9.41362D0, 2.09529D0, &\n",
    "        32.36857D0, 2.12256D0, &\n",
    "        -3.40252D0, 1.87293D0, &\n",
    "        -1.68672D0, 2.18922D0, &\n",
    "        -1.91165D0, 1.96196D0, &\n",
    "        1.10092D0, 1.98533D0/\n",
    "    \n",
    "    DATA C6,C6AFAC/101.D0, 0.270D0/\n",
    "    DATA SITE,RDISP,FRACC/1.5874D0, -1.D0, 0.000000001D0/\n",
    "    DATA C8RAT,C8AFAC/29.21D0, 999.D0/\n",
    "    \n",
    "    DO 100 I=1,NLEGC+NLEGO\n",
    "    100 RLAM(I)=RLAM(I)*1.D-6\n",
    "    \n",
    "    print *, '1.D0', 1.D0\n",
    "    \n",
    "    C6C=FRACC*C6\n",
    "    C6O=0.5D0*(C6-C6C)\n",
    "    FRACC2=FRACC\n",
    "    C62=C6AFAC*C6\n",
    "    C6C2=FRACC2*C62\n",
    "    C6O2=0.5D0*(C62-C6C2)\n",
    "    C10RAT=49.D0/40.D0\n",
    "    C8RATH=19.1412D0\n",
    "    C8RATC=C8RAT\n",
    "    C8C=C8RATC*C6C\n",
    "    C10C=C10RAT*C8RATC*C8C\n",
    "    C8C2=C8RATC*C6C2\n",
    "    C10C2=C10RAT*C8RATC*C8C2\n",
    "    RDISPC=RDISP\n",
    "    IF(RDISP.LT.0.D0) RDISPC=10.01D0*DSQRT(C8RATC/C8RATH)\n",
    "    C8RATO=C8RAT\n",
    "    C8O=C8RATO*C6O\n",
    "    C10O=C10RAT*C8RATO*C8O\n",
    "    C8O2=C8RATO*C6O2\n",
    "    C8=C8C+C8O+C8O+SITE**2*(10.D0*C6O+2.D0*C6O2)\n",
    "    C10O2=C10RAT*C8RATO*C8O2\n",
    "    RDISPO=RDISP\n",
    "    \n",
    "    IF(RDISP.LT.0.D0) RDISPO=10.01D0*DSQRT(C8RATO/C8RATH)\n",
    "      C82=C8C+C8O+C8O+SITE**2*(32.D0*C6O+(88.D0/7.D0)*C6O2)\n",
    "      IF(ISITE.GT.0) THEN\t ! Split repulsion potential\n",
    "        SFACC=SFAC0+0.5D0*SFAC2\n",
    "        SFACE=SFAC0-0.5D0*SFAC2\n",
    "    ENDIF\n",
    "    \n",
    "    RETURN\n",
    "    END\n",
    "    \n",
    "function sumleg(a, n, cx)\n",
    "! this horrible thing\n",
    "implicit real*8 (A-H, O-Z)\n",
    "        \n",
    "! n should be an integer since it would define a length of an array\n",
    "integer, intent(in) :: n\n",
    "real*8, intent(in) :: cx\n",
    "\n",
    "! means that we are creating a 1d-dimensional array of length N\n",
    "dimension A(N)\n",
    "\n",
    "print *, 'A(1) ', A(1)\n",
    "print *, 'A(2) ', A(2)\n",
    "\n",
    "! Sums the weigted Legendre polynomials A(I)*Pn(x), x=cos(gamma)\n",
    "! n=0,1,2,3,4\n",
    "\n",
    "DCX=CX*CX\n",
    "DDCX=DCX*DCX\n",
    "\n",
    "VA0=1.D0  ! P0(x)\n",
    "VA1=CX    ! P1(x)\n",
    "VA2=1.5D0*DCX-0.5D0  ! P2(x)\n",
    "VA3=0.5D0*CX*(5.D0*DCX-3.D0)  ! P3(x)\n",
    "VA4=4.375D0*DDCX-3.75D0*DCX+0.375D0   ! P4(x)\n",
    "SUMLEG=A(1)*VA0+A(2)*VA1+A(3)*VA2+A(4)*VA3+A(5)*VA4\n",
    "\n",
    "print *, 'I hope it is returning sumleg', SUMLEG\n",
    "\n",
    "RETURN\n",
    "end function sumleg\n",
    "\n"
   ]
  },
  {
   "cell_type": "code",
   "execution_count": 5,
   "metadata": {
    "collapsed": false,
    "deletable": true,
    "editable": true
   },
   "outputs": [
    {
     "name": "stdout",
     "output_type": "stream",
     "text": [
      "\n",
      "Ok. The following fortran objects are ready to use: extpot, pothut\n"
     ]
    }
   ],
   "source": [
    "%%fortran --fcompiler gnu95 -v\n",
    "\n",
    "function extpot(r,costh)\n",
    "! very bad thing that forces compiler to initialize a variable when some unknown name is came upon\n",
    "implicit real*8 (A-H,O-Z)\n",
    "\n",
    "! initialize input r variable (intent(in) means that variable cannot be changed inside the function)\n",
    "real*8, intent(in) :: r \n",
    "real*8, intent(in) :: costh\n",
    "\n",
    "! pulling variables from COMMON block (initialized in the potdat4 function)\n",
    "COMMON/POTHUT/ RLAM(20),BLAM(20),OLAM(20),RDISPC, &\n",
    "            RREF,BFAC,RDISPO,BOND,C8O2,ISITE,C10O,C8O,C6O,C10C2, &\n",
    "            C8C2, C6C2,C10C,C8C,C6C,SITE,C10O2,SFAC2,SFAC0,C6O2, &\n",
    "            SFACE,SFACC, NLEGC,NLEGO\n",
    "\n",
    "! I suspect that it means that AUE = value * D0 ?\n",
    "DATA AUE /219474.6354D0/\n",
    "! for some reason print streams output to console instead of notebook \n",
    "! print *, 'The AUE is ', AUE\n",
    "\n",
    "DATA AUR /0.52917706D0/\n",
    "\n",
    "! why even do this?\n",
    "RR=R ! /AUR  ! Angstrom -> a.u.\n",
    "\n",
    "! calculating split repulsion potential\n",
    "IF(ISITE.GT.0) THEN  \n",
    "    T=-BOND/RR\n",
    "    TEMP=DSQRT(1.D0+T*(T+COSTH+COSTH))\n",
    "    RO1=RR*TEMP\n",
    "    COSO1=(COSTH+T)/TEMP\n",
    "\n",
    "    T=+BOND/RR\n",
    "    TEMP=DSQRT(1.D0+T*(T+COSTH+COSTH))\n",
    "    RO2=RR*TEMP\n",
    "    COSO2=(COSTH+T)/TEMP\n",
    "\n",
    "    DO 6 I=1,NLEGC\n",
    "    6   OLAM(I)=RLAM(I)*DEXP(BFAC*BLAM(I)*(RREF-RR))\n",
    "    \n",
    "    print *, \"Passing to sumleg OLAM\", OLAM\n",
    "    print *, \"Passing to sumleg NLEFC\", NLEGC\n",
    "    print *, \"Passing to sumleg COSTH\", COSTH\n",
    "    \n",
    "    OLAPC=SUMLEG(OLAM,NLEGC,COSTH)\n",
    "    DO 7 I=1,NLEGO\n",
    "    7   OLAM(I)=RLAM(NLEGC+I)*DEXP(BFAC*BLAM(NLEGC+I)*(RREF-RO1))\n",
    "    OLAPO1=SUMLEG(OLAM,NLEGO,COSO1)\n",
    "    DO 8 I=1,NLEGO\n",
    "    8   OLAM(I)=RLAM(NLEGC+I)*DEXP(BFAC*BLAM(NLEGC+I)*(RREF-RO2))\n",
    "    OLAPO2=SUMLEG(OLAM,NLEGO,-COSO2)\n",
    "    V=SFACC*OLAPC+SFACE*(OLAPO1+OLAPO2)\n",
    "ENDIF\n",
    "\n",
    "T=-SITE/RR\n",
    "TEMP=DSQRT(1.D0+T*(T+COSTH+COSTH))\n",
    "RO1=RR*TEMP\n",
    "COSO1=(COSTH+T)/TEMP\n",
    "\n",
    "T=+SITE/RR\n",
    "TEMP=DSQRT(1.D0+T*(T+COSTH+COSTH))\n",
    "RO2=RR*TEMP\n",
    "COSO2=(COSTH+T)/TEMP\n",
    "\n",
    "R2=1.D0/(RR*RR)\n",
    "DISP=-(C6C+(C8C+C10C*R2)*R2 &\n",
    "  +(C6C2+(C8C2+C10C2*R2)*R2)*(1.5D0*COSTH*COSTH-0.5D0))*R2**3\n",
    "\n",
    "IF(RR.GT.RDISPC) THEN\n",
    "    V=V+DISP\n",
    "ELSE\n",
    "    V=V+DISP*DEXP(-0.4D0*(RDISPC/RR-1.D0)**2)\n",
    "ENDIF\n",
    "\n",
    "R2=1.D0/(RO1*RO1)\n",
    "DISP=-(C6O+(C8O+C10O*R2)*R2 &\n",
    "   +(C6O2+(C8O2+C10O2*R2)*R2)*(1.5D0*COSO1*COSO1-0.5D0))*R2**3\n",
    "\n",
    "IF(RO1.GT.RDISPO) THEN\n",
    "    V=V+DISP\n",
    "ELSE\n",
    "    V=V+DISP*DEXP(-0.4D0*(RDISPO/RO1-1.D0)**2)\n",
    "ENDIF\n",
    "\n",
    "R2=1.D0/(RO2*RO2)\n",
    "DISP=-(C6O+(C8O+C10O*R2)*R2 &\n",
    "    +(C6O2+(C8O2+C10O2*R2)*R2)*(1.5D0*COSO2*COSO2-0.5D0))*R2**3\n",
    "\n",
    "IF(RO2.GT.RDISPO) THEN\n",
    "    V=V+DISP\n",
    "ELSE\n",
    "    V=V+DISP*DEXP(-0.4D0*(RDISPO/RO2-1.D0)**2)\n",
    "ENDIF\n",
    "\n",
    "EXTPOT = V  ! *AUE ! to cm-1\n",
    "            \n",
    "end function extpot"
   ]
  },
  {
   "cell_type": "code",
   "execution_count": 130,
   "metadata": {
    "collapsed": false,
    "deletable": true,
    "editable": true
   },
   "outputs": [
    {
     "data": {
      "text/plain": [
       "144.0"
      ]
     },
     "execution_count": 130,
     "metadata": {},
     "output_type": "execute_result"
    }
   ],
   "source": [
    "extpot(12., 0.0)"
   ]
  },
  {
   "cell_type": "code",
   "execution_count": 131,
   "metadata": {
    "collapsed": false,
    "deletable": true,
    "editable": true
   },
   "outputs": [
    {
     "data": {
      "text/plain": [
       "-2.6867786204444663e+154"
      ]
     },
     "execution_count": 131,
     "metadata": {},
     "output_type": "execute_result"
    }
   ],
   "source": [
    "sumleg(3, [1, 2], 1)"
   ]
  },
  {
   "cell_type": "code",
   "execution_count": 11,
   "metadata": {
    "collapsed": true,
    "deletable": true,
    "editable": true
   },
   "outputs": [],
   "source": [
    "potdat4()"
   ]
  },
  {
   "cell_type": "code",
   "execution_count": null,
   "metadata": {
    "collapsed": true
   },
   "outputs": [],
   "source": []
  }
 ],
 "metadata": {
  "kernelspec": {
   "display_name": "Python 3",
   "language": "python",
   "name": "python3"
  },
  "language_info": {
   "codemirror_mode": {
    "name": "ipython",
    "version": 3
   },
   "file_extension": ".py",
   "mimetype": "text/x-python",
   "name": "python",
   "nbconvert_exporter": "python",
   "pygments_lexer": "ipython3",
   "version": "3.5.2"
  }
 },
 "nbformat": 4,
 "nbformat_minor": 2
}
